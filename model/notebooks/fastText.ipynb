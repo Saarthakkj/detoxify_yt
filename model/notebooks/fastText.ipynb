{
 "cells": [
  {
   "cell_type": "code",
   "execution_count": 1,
   "metadata": {},
   "outputs": [
    {
     "name": "stdout",
     "output_type": "stream",
     "text": [
      "Collecting scikit-learn\n",
      "  Using cached scikit_learn-1.6.1-cp312-cp312-win_amd64.whl.metadata (15 kB)\n",
      "Requirement already satisfied: numpy>=1.19.5 in c:\\users\\saarthak\\desktop\\detoxify_yt\\.venv\\lib\\site-packages (from scikit-learn) (2.2.2)\n",
      "Requirement already satisfied: scipy>=1.6.0 in c:\\users\\saarthak\\desktop\\detoxify_yt\\.venv\\lib\\site-packages (from scikit-learn) (1.15.1)\n",
      "Collecting joblib>=1.2.0 (from scikit-learn)\n",
      "  Using cached joblib-1.4.2-py3-none-any.whl.metadata (5.4 kB)\n",
      "Requirement already satisfied: threadpoolctl>=3.1.0 in c:\\users\\saarthak\\desktop\\detoxify_yt\\.venv\\lib\\site-packages (from scikit-learn) (3.5.0)\n",
      "Using cached scikit_learn-1.6.1-cp312-cp312-win_amd64.whl (11.1 MB)\n",
      "Using cached joblib-1.4.2-py3-none-any.whl (301 kB)\n",
      "Installing collected packages: joblib, scikit-learn\n",
      "Successfully installed joblib-1.4.2 scikit-learn-1.6.1\n",
      "Note: you may need to restart the kernel to use updated packages.\n"
     ]
    }
   ],
   "source": [
    "%pip install scikit-learn"
   ]
  },
  {
   "cell_type": "code",
   "execution_count": 1,
   "metadata": {},
   "outputs": [],
   "source": [
    "import fasttext\n",
    "import zipfile\n",
    "import os\n",
    "import zipfile\n",
    "import os\n",
    "import io\n",
    "import re\n",
    "import pandas as pd\n",
    "import sklearn"
   ]
  },
  {
   "cell_type": "code",
   "execution_count": 19,
   "metadata": {},
   "outputs": [],
   "source": [
    "# vec_data = load_vectors(r\"c:\\Users\\Saarthak\\Desktop\\detoxify_yt\\model\\wiki-news-300d-1M-subword.vec\")\n",
    "model = fasttext.load_model(r\"C:\\Users\\Saarthak\\Desktop\\detoxify_yt\\model\\wiki.en\\wiki.en.bin\")"
   ]
  },
  {
   "cell_type": "code",
   "execution_count": null,
   "metadata": {},
   "outputs": [],
   "source": [
    "model.get_nearest_neighbors(\"chess\")"
   ]
  },
  {
   "cell_type": "code",
   "execution_count": 2,
   "metadata": {},
   "outputs": [
    {
     "data": {
      "text/html": [
       "<div>\n",
       "<style scoped>\n",
       "    .dataframe tbody tr th:only-of-type {\n",
       "        vertical-align: middle;\n",
       "    }\n",
       "\n",
       "    .dataframe tbody tr th {\n",
       "        vertical-align: top;\n",
       "    }\n",
       "\n",
       "    .dataframe thead th {\n",
       "        text-align: right;\n",
       "    }\n",
       "</style>\n",
       "<table border=\"1\" class=\"dataframe\">\n",
       "  <thead>\n",
       "    <tr style=\"text-align: right;\">\n",
       "      <th></th>\n",
       "      <th>Title</th>\n",
       "      <th>category</th>\n",
       "    </tr>\n",
       "  </thead>\n",
       "  <tbody>\n",
       "    <tr>\n",
       "      <th>0</th>\n",
       "      <td>!@#$%$#!! || Dubov vs Carlsen || Airthings Mas...</td>\n",
       "      <td>chess</td>\n",
       "    </tr>\n",
       "    <tr>\n",
       "      <th>1</th>\n",
       "      <td>\"\"Math Whiz!\" Addition Song  /// Danny Go! Kid...</td>\n",
       "      <td>math</td>\n",
       "    </tr>\n",
       "    <tr>\n",
       "      <th>2</th>\n",
       "      <td>\"#01 Introduction to Java Programming Tutorial...</td>\n",
       "      <td>coding</td>\n",
       "    </tr>\n",
       "    <tr>\n",
       "      <th>3</th>\n",
       "      <td>\"#05 🔴 RAILWAY 2024 || BEST 51 QUESTIONS by Ad...</td>\n",
       "      <td>math</td>\n",
       "    </tr>\n",
       "    <tr>\n",
       "      <th>4</th>\n",
       "      <td>\"#15 Compound Interest (चक्रवृद्धि ब्याज) | Co...</td>\n",
       "      <td>math</td>\n",
       "    </tr>\n",
       "  </tbody>\n",
       "</table>\n",
       "</div>"
      ],
      "text/plain": [
       "                                               Title category\n",
       "0  !@#$%$#!! || Dubov vs Carlsen || Airthings Mas...    chess\n",
       "1  \"\"Math Whiz!\" Addition Song  /// Danny Go! Kid...     math\n",
       "2  \"#01 Introduction to Java Programming Tutorial...   coding\n",
       "3  \"#05 🔴 RAILWAY 2024 || BEST 51 QUESTIONS by Ad...     math\n",
       "4  \"#15 Compound Interest (चक्रवृद्धि ब्याज) | Co...     math"
      ]
     },
     "execution_count": 2,
     "metadata": {},
     "output_type": "execute_result"
    }
   ],
   "source": [
    "df = pd.read_csv(r\"C:\\Users\\Saarthak\\Desktop\\detoxify_yt\\dataset\\df_final_dataset.csv\")\n",
    "df.head()"
   ]
  },
  {
   "cell_type": "code",
   "execution_count": 3,
   "metadata": {},
   "outputs": [],
   "source": [
    "df['category_fasttext'] = '__label__' + df['category'].astype(str)"
   ]
  },
  {
   "cell_type": "code",
   "execution_count": 4,
   "metadata": {},
   "outputs": [],
   "source": [
    "df['category_description'] = df['category_fasttext']+df['Title']"
   ]
  },
  {
   "cell_type": "code",
   "execution_count": 5,
   "metadata": {},
   "outputs": [
    {
     "data": {
      "text/html": [
       "<div>\n",
       "<style scoped>\n",
       "    .dataframe tbody tr th:only-of-type {\n",
       "        vertical-align: middle;\n",
       "    }\n",
       "\n",
       "    .dataframe tbody tr th {\n",
       "        vertical-align: top;\n",
       "    }\n",
       "\n",
       "    .dataframe thead th {\n",
       "        text-align: right;\n",
       "    }\n",
       "</style>\n",
       "<table border=\"1\" class=\"dataframe\">\n",
       "  <thead>\n",
       "    <tr style=\"text-align: right;\">\n",
       "      <th></th>\n",
       "      <th>Title</th>\n",
       "      <th>category</th>\n",
       "      <th>category_fasttext</th>\n",
       "      <th>category_description</th>\n",
       "    </tr>\n",
       "  </thead>\n",
       "  <tbody>\n",
       "    <tr>\n",
       "      <th>0</th>\n",
       "      <td>!@#$%$#!! || Dubov vs Carlsen || Airthings Mas...</td>\n",
       "      <td>chess</td>\n",
       "      <td>__label__chess</td>\n",
       "      <td>__label__chess!@#$%$#!! || Dubov vs Carlsen ||...</td>\n",
       "    </tr>\n",
       "    <tr>\n",
       "      <th>1</th>\n",
       "      <td>\"\"Math Whiz!\" Addition Song  /// Danny Go! Kid...</td>\n",
       "      <td>math</td>\n",
       "      <td>__label__math</td>\n",
       "      <td>__label__math\"\"Math Whiz!\" Addition Song  /// ...</td>\n",
       "    </tr>\n",
       "    <tr>\n",
       "      <th>2</th>\n",
       "      <td>\"#01 Introduction to Java Programming Tutorial...</td>\n",
       "      <td>coding</td>\n",
       "      <td>__label__coding</td>\n",
       "      <td>__label__coding\"#01 Introduction to Java Progr...</td>\n",
       "    </tr>\n",
       "    <tr>\n",
       "      <th>3</th>\n",
       "      <td>\"#05 🔴 RAILWAY 2024 || BEST 51 QUESTIONS by Ad...</td>\n",
       "      <td>math</td>\n",
       "      <td>__label__math</td>\n",
       "      <td>__label__math\"#05 🔴 RAILWAY 2024 || BEST 51 QU...</td>\n",
       "    </tr>\n",
       "    <tr>\n",
       "      <th>4</th>\n",
       "      <td>\"#15 Compound Interest (चक्रवृद्धि ब्याज) | Co...</td>\n",
       "      <td>math</td>\n",
       "      <td>__label__math</td>\n",
       "      <td>__label__math\"#15 Compound Interest (चक्रवृद्ध...</td>\n",
       "    </tr>\n",
       "  </tbody>\n",
       "</table>\n",
       "</div>"
      ],
      "text/plain": [
       "                                               Title category  \\\n",
       "0  !@#$%$#!! || Dubov vs Carlsen || Airthings Mas...    chess   \n",
       "1  \"\"Math Whiz!\" Addition Song  /// Danny Go! Kid...     math   \n",
       "2  \"#01 Introduction to Java Programming Tutorial...   coding   \n",
       "3  \"#05 🔴 RAILWAY 2024 || BEST 51 QUESTIONS by Ad...     math   \n",
       "4  \"#15 Compound Interest (चक्रवृद्धि ब्याज) | Co...     math   \n",
       "\n",
       "  category_fasttext                               category_description  \n",
       "0    __label__chess  __label__chess!@#$%$#!! || Dubov vs Carlsen ||...  \n",
       "1     __label__math  __label__math\"\"Math Whiz!\" Addition Song  /// ...  \n",
       "2   __label__coding  __label__coding\"#01 Introduction to Java Progr...  \n",
       "3     __label__math  __label__math\"#05 🔴 RAILWAY 2024 || BEST 51 QU...  \n",
       "4     __label__math  __label__math\"#15 Compound Interest (चक्रवृद्ध...  "
      ]
     },
     "execution_count": 5,
     "metadata": {},
     "output_type": "execute_result"
    }
   ],
   "source": [
    "df.head(5)"
   ]
  },
  {
   "cell_type": "code",
   "execution_count": 7,
   "metadata": {},
   "outputs": [],
   "source": [
    "def preprocess(text):\n",
    "    text = re.sub(r'[^\\w\\s\\']',' ', text)\n",
    "    text = re.sub(' +', ' ', text)\n",
    "    return text.strip().lower() "
   ]
  },
  {
   "cell_type": "code",
   "execution_count": 8,
   "metadata": {},
   "outputs": [
    {
     "data": {
      "text/html": [
       "<div>\n",
       "<style scoped>\n",
       "    .dataframe tbody tr th:only-of-type {\n",
       "        vertical-align: middle;\n",
       "    }\n",
       "\n",
       "    .dataframe tbody tr th {\n",
       "        vertical-align: top;\n",
       "    }\n",
       "\n",
       "    .dataframe thead th {\n",
       "        text-align: right;\n",
       "    }\n",
       "</style>\n",
       "<table border=\"1\" class=\"dataframe\">\n",
       "  <thead>\n",
       "    <tr style=\"text-align: right;\">\n",
       "      <th></th>\n",
       "      <th>Title</th>\n",
       "      <th>category</th>\n",
       "      <th>category_fasttext</th>\n",
       "      <th>category_description</th>\n",
       "    </tr>\n",
       "  </thead>\n",
       "  <tbody>\n",
       "    <tr>\n",
       "      <th>0</th>\n",
       "      <td>!@#$%$#!! || Dubov vs Carlsen || Airthings Mas...</td>\n",
       "      <td>chess</td>\n",
       "      <td>__label__chess</td>\n",
       "      <td>__label__chess dubov vs carlsen airthings mast...</td>\n",
       "    </tr>\n",
       "    <tr>\n",
       "      <th>1</th>\n",
       "      <td>\"\"Math Whiz!\" Addition Song  /// Danny Go! Kid...</td>\n",
       "      <td>math</td>\n",
       "      <td>__label__math</td>\n",
       "      <td>__label__math math whiz addition song danny go...</td>\n",
       "    </tr>\n",
       "    <tr>\n",
       "      <th>2</th>\n",
       "      <td>\"#01 Introduction to Java Programming Tutorial...</td>\n",
       "      <td>coding</td>\n",
       "      <td>__label__coding</td>\n",
       "      <td>__label__coding 01 introduction to java progra...</td>\n",
       "    </tr>\n",
       "    <tr>\n",
       "      <th>3</th>\n",
       "      <td>\"#05 🔴 RAILWAY 2024 || BEST 51 QUESTIONS by Ad...</td>\n",
       "      <td>math</td>\n",
       "      <td>__label__math</td>\n",
       "      <td>__label__math 05 railway 2024 best 51 question...</td>\n",
       "    </tr>\n",
       "    <tr>\n",
       "      <th>4</th>\n",
       "      <td>\"#15 Compound Interest (चक्रवृद्धि ब्याज) | Co...</td>\n",
       "      <td>math</td>\n",
       "      <td>__label__math</td>\n",
       "      <td>__label__math 15 compound interest चक रव द ध ब...</td>\n",
       "    </tr>\n",
       "  </tbody>\n",
       "</table>\n",
       "</div>"
      ],
      "text/plain": [
       "                                               Title category  \\\n",
       "0  !@#$%$#!! || Dubov vs Carlsen || Airthings Mas...    chess   \n",
       "1  \"\"Math Whiz!\" Addition Song  /// Danny Go! Kid...     math   \n",
       "2  \"#01 Introduction to Java Programming Tutorial...   coding   \n",
       "3  \"#05 🔴 RAILWAY 2024 || BEST 51 QUESTIONS by Ad...     math   \n",
       "4  \"#15 Compound Interest (चक्रवृद्धि ब्याज) | Co...     math   \n",
       "\n",
       "  category_fasttext                               category_description  \n",
       "0    __label__chess  __label__chess dubov vs carlsen airthings mast...  \n",
       "1     __label__math  __label__math math whiz addition song danny go...  \n",
       "2   __label__coding  __label__coding 01 introduction to java progra...  \n",
       "3     __label__math  __label__math 05 railway 2024 best 51 question...  \n",
       "4     __label__math  __label__math 15 compound interest चक रव द ध ब...  "
      ]
     },
     "execution_count": 8,
     "metadata": {},
     "output_type": "execute_result"
    }
   ],
   "source": [
    "df['category_description'] = df['category_description'].map(preprocess)\n",
    "df.head()"
   ]
  },
  {
   "cell_type": "code",
   "execution_count": 9,
   "metadata": {},
   "outputs": [],
   "source": [
    "from sklearn.model_selection import train_test_split\n",
    "df_train  , val = train_test_split(df , test_size = 0.3)\n",
    "train, test = train_test_split(df_train, test_size=0.2 )"
   ]
  },
  {
   "cell_type": "code",
   "execution_count": 10,
   "metadata": {},
   "outputs": [
    {
     "data": {
      "text/html": [
       "<div>\n",
       "<style scoped>\n",
       "    .dataframe tbody tr th:only-of-type {\n",
       "        vertical-align: middle;\n",
       "    }\n",
       "\n",
       "    .dataframe tbody tr th {\n",
       "        vertical-align: top;\n",
       "    }\n",
       "\n",
       "    .dataframe thead th {\n",
       "        text-align: right;\n",
       "    }\n",
       "</style>\n",
       "<table border=\"1\" class=\"dataframe\">\n",
       "  <thead>\n",
       "    <tr style=\"text-align: right;\">\n",
       "      <th></th>\n",
       "      <th>Title</th>\n",
       "      <th>category</th>\n",
       "      <th>category_fasttext</th>\n",
       "      <th>category_description</th>\n",
       "    </tr>\n",
       "  </thead>\n",
       "  <tbody>\n",
       "    <tr>\n",
       "      <th>522</th>\n",
       "      <td>\"Medical coding Basics #abbrevations #medicalc...</td>\n",
       "      <td>coding</td>\n",
       "      <td>__label__coding</td>\n",
       "      <td>__label__coding medical coding basics abbrevat...</td>\n",
       "    </tr>\n",
       "    <tr>\n",
       "      <th>2108</th>\n",
       "      <td>Chelsea Says Goodbye to the Cast | Teen Mom 2</td>\n",
       "      <td>other</td>\n",
       "      <td>__label__other</td>\n",
       "      <td>__label__otherchelsea says goodbye to the cast...</td>\n",
       "    </tr>\n",
       "    <tr>\n",
       "      <th>1652</th>\n",
       "      <td>Prime Minister Boris Johnson and President Zel...</td>\n",
       "      <td>other</td>\n",
       "      <td>__label__other</td>\n",
       "      <td>__label__otherprime minister boris johnson and...</td>\n",
       "    </tr>\n",
       "    <tr>\n",
       "      <th>699</th>\n",
       "      <td>\"The Future of Coding Is Finally Here | llamaC...</td>\n",
       "      <td>coding</td>\n",
       "      <td>__label__coding</td>\n",
       "      <td>__label__coding the future of coding is finall...</td>\n",
       "    </tr>\n",
       "    <tr>\n",
       "      <th>436</th>\n",
       "      <td>\"Is math really needed to code? 🤔 | Mathematic...</td>\n",
       "      <td>coding</td>\n",
       "      <td>__label__coding</td>\n",
       "      <td>__label__coding is math really needed to code ...</td>\n",
       "    </tr>\n",
       "  </tbody>\n",
       "</table>\n",
       "</div>"
      ],
      "text/plain": [
       "                                                  Title category  \\\n",
       "522   \"Medical coding Basics #abbrevations #medicalc...   coding   \n",
       "2108      Chelsea Says Goodbye to the Cast | Teen Mom 2    other   \n",
       "1652  Prime Minister Boris Johnson and President Zel...    other   \n",
       "699   \"The Future of Coding Is Finally Here | llamaC...   coding   \n",
       "436   \"Is math really needed to code? 🤔 | Mathematic...   coding   \n",
       "\n",
       "     category_fasttext                               category_description  \n",
       "522    __label__coding  __label__coding medical coding basics abbrevat...  \n",
       "2108    __label__other  __label__otherchelsea says goodbye to the cast...  \n",
       "1652    __label__other  __label__otherprime minister boris johnson and...  \n",
       "699    __label__coding  __label__coding the future of coding is finall...  \n",
       "436    __label__coding  __label__coding is math really needed to code ...  "
      ]
     },
     "execution_count": 10,
     "metadata": {},
     "output_type": "execute_result"
    }
   ],
   "source": [
    "train.head()"
   ]
  },
  {
   "cell_type": "code",
   "execution_count": 11,
   "metadata": {},
   "outputs": [],
   "source": [
    "train.to_csv(\"fasttext_data.train\", columns=[\"category_description\"], index=False, header=False)\n",
    "test.to_csv(\"fasttext_data.test\", columns=[\"category_description\"], index=False, header=False)\n",
    "val.to_csv(\"fasttext_data.val\", columns=[\"category_description\"], index=False, header=False)"
   ]
  },
  {
   "cell_type": "code",
   "execution_count": 13,
   "metadata": {},
   "outputs": [
    {
     "name": "stdout",
     "output_type": "stream",
     "text": [
      "train :  (1634, 4)\n",
      "val :  (876, 4)\n",
      "test :  (409, 4)\n"
     ]
    }
   ],
   "source": [
    "print('train : ', train.shape)\n",
    "print(\"val : \" , val.shape)\n",
    "print(\"test : \" , test.shape)"
   ]
  },
  {
   "cell_type": "code",
   "execution_count": null,
   "metadata": {},
   "outputs": [],
   "source": [
    "import fasttext\n",
    "model = fasttext.train_supervised(input=\"fasttext_data.train\" , lr = 1e-4 , lrUpdateRate  = 10 , epoch = 5 , autotuneValidationFile='fasttext_data.val')\n",
    "model.test(\"fasttext_data.test\")"
   ]
  }
 ],
 "metadata": {
  "kernelspec": {
   "display_name": ".venv",
   "language": "python",
   "name": "python3"
  },
  "language_info": {
   "codemirror_mode": {
    "name": "ipython",
    "version": 3
   },
   "file_extension": ".py",
   "mimetype": "text/x-python",
   "name": "python",
   "nbconvert_exporter": "python",
   "pygments_lexer": "ipython3",
   "version": "3.12.1"
  }
 },
 "nbformat": 4,
 "nbformat_minor": 2
}
