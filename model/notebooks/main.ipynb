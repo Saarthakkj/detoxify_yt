{
 "cells": [
  {
   "cell_type": "code",
   "execution_count": 2,
   "metadata": {},
   "outputs": [
    {
     "name": "stdout",
     "output_type": "stream",
     "text": [
      "1.2.1\n"
     ]
    }
   ],
   "source": [
    "import os\n",
    "import pandas as pd\n",
    "import matplotlib as plt\n",
    "import zipfile\n",
    "from transformers import BertTokenizer  , BertForSequenceClassification\n",
    "\n",
    "import torch\n",
    "\n",
    "import random\n",
    "import matplotlib.pyplot as plt  # instead of import matplotlib as plt\n",
    "\n",
    "from datasets import load_dataset\n",
    "\n",
    "from transformers import AutoTokenizer, AutoModelForSequenceClassification, TrainingArguments, Trainer\n",
    "\n",
    "import evaluate\n",
    "import numpy as np\n",
    "from transformers import DataCollatorWithPadding\n",
    "\n",
    "from transformers import DataCollatorWithPadding\n",
    "import accelerate\n",
    "\n",
    "print(accelerate.__version__)\n",
    "# Define hyperparameters that were missing\n",
    "# Convert DataFrame to Dataset format\n",
    "from datasets import Dataset\n"
   ]
  },
  {
   "cell_type": "code",
   "execution_count": null,
   "metadata": {},
   "outputs": [],
   "source": [
    "# Define the path to the zip file and the file to extract\n",
    "zip_file_path = \"US_youtube_trending_data.csv.zip\"\n",
    "file_to_extract = \"US_youtube_trending_data.csv\"\n",
    "\n",
    "# Extract the file\n",
    "with zipfile.ZipFile(zip_file_path, 'r') as zip_ref:\n",
    "    zip_ref.extract(file_to_extract)\n",
    "\n",
    "\n",
    "with zipfile.ZipFile(\"USvideos.csv.zip\"  , 'r') as zip_ref:\n",
    "    zip_ref.extract(\"USvideos.csv\")\n",
    "\n",
    "df = pd.read_csv(\"US_youtube_trending_data.csv\")\n",
    "df2 = pd.read_csv(\"USvideos.csv\")"
   ]
  },
  {
   "cell_type": "code",
   "execution_count": 11,
   "metadata": {},
   "outputs": [
    {
     "data": {
      "text/html": [
       "<div>\n",
       "<style scoped>\n",
       "    .dataframe tbody tr th:only-of-type {\n",
       "        vertical-align: middle;\n",
       "    }\n",
       "\n",
       "    .dataframe tbody tr th {\n",
       "        vertical-align: top;\n",
       "    }\n",
       "\n",
       "    .dataframe thead th {\n",
       "        text-align: right;\n",
       "    }\n",
       "</style>\n",
       "<table border=\"1\" class=\"dataframe\">\n",
       "  <thead>\n",
       "    <tr style=\"text-align: right;\">\n",
       "      <th></th>\n",
       "      <th>video_id</th>\n",
       "      <th>title</th>\n",
       "      <th>publishedAt</th>\n",
       "      <th>channelId</th>\n",
       "      <th>channelTitle</th>\n",
       "      <th>categoryId</th>\n",
       "      <th>trending_date</th>\n",
       "      <th>tags</th>\n",
       "      <th>view_count</th>\n",
       "      <th>likes</th>\n",
       "      <th>dislikes</th>\n",
       "      <th>comment_count</th>\n",
       "      <th>thumbnail_link</th>\n",
       "      <th>comments_disabled</th>\n",
       "      <th>ratings_disabled</th>\n",
       "      <th>description</th>\n",
       "    </tr>\n",
       "  </thead>\n",
       "  <tbody>\n",
       "    <tr>\n",
       "      <th>0</th>\n",
       "      <td>3C66w5Z0ixs</td>\n",
       "      <td>I ASKED HER TO BE MY GIRLFRIEND...</td>\n",
       "      <td>2020-08-11T19:20:14Z</td>\n",
       "      <td>UCvtRTOMP2TqYqu51xNrqAzg</td>\n",
       "      <td>Brawadis</td>\n",
       "      <td>22</td>\n",
       "      <td>2020-08-12T00:00:00Z</td>\n",
       "      <td>brawadis|prank|basketball|skits|ghost|funny vi...</td>\n",
       "      <td>1514614</td>\n",
       "      <td>156908</td>\n",
       "      <td>5855</td>\n",
       "      <td>35313</td>\n",
       "      <td>https://i.ytimg.com/vi/3C66w5Z0ixs/default.jpg</td>\n",
       "      <td>False</td>\n",
       "      <td>False</td>\n",
       "      <td>SUBSCRIBE to BRAWADIS ▶ http://bit.ly/Subscrib...</td>\n",
       "    </tr>\n",
       "    <tr>\n",
       "      <th>1</th>\n",
       "      <td>M9Pmf9AB4Mo</td>\n",
       "      <td>Apex Legends | Stories from the Outlands – “Th...</td>\n",
       "      <td>2020-08-11T17:00:10Z</td>\n",
       "      <td>UC0ZV6M2THA81QT9hrVWJG3A</td>\n",
       "      <td>Apex Legends</td>\n",
       "      <td>20</td>\n",
       "      <td>2020-08-12T00:00:00Z</td>\n",
       "      <td>Apex Legends|Apex Legends characters|new Apex ...</td>\n",
       "      <td>2381688</td>\n",
       "      <td>146739</td>\n",
       "      <td>2794</td>\n",
       "      <td>16549</td>\n",
       "      <td>https://i.ytimg.com/vi/M9Pmf9AB4Mo/default.jpg</td>\n",
       "      <td>False</td>\n",
       "      <td>False</td>\n",
       "      <td>While running her own modding shop, Ramya Pare...</td>\n",
       "    </tr>\n",
       "    <tr>\n",
       "      <th>2</th>\n",
       "      <td>J78aPJ3VyNs</td>\n",
       "      <td>I left youtube for a month and THIS is what ha...</td>\n",
       "      <td>2020-08-11T16:34:06Z</td>\n",
       "      <td>UCYzPXprvl5Y-Sf0g4vX-m6g</td>\n",
       "      <td>jacksepticeye</td>\n",
       "      <td>24</td>\n",
       "      <td>2020-08-12T00:00:00Z</td>\n",
       "      <td>jacksepticeye|funny|funny meme|memes|jacksepti...</td>\n",
       "      <td>2038853</td>\n",
       "      <td>353787</td>\n",
       "      <td>2628</td>\n",
       "      <td>40221</td>\n",
       "      <td>https://i.ytimg.com/vi/J78aPJ3VyNs/default.jpg</td>\n",
       "      <td>False</td>\n",
       "      <td>False</td>\n",
       "      <td>I left youtube for a month and this is what ha...</td>\n",
       "    </tr>\n",
       "    <tr>\n",
       "      <th>3</th>\n",
       "      <td>kXLn3HkpjaA</td>\n",
       "      <td>XXL 2020 Freshman Class Revealed - Official An...</td>\n",
       "      <td>2020-08-11T16:38:55Z</td>\n",
       "      <td>UCbg_UMjlHJg_19SZckaKajg</td>\n",
       "      <td>XXL</td>\n",
       "      <td>10</td>\n",
       "      <td>2020-08-12T00:00:00Z</td>\n",
       "      <td>xxl freshman|xxl freshmen|2020 xxl freshman|20...</td>\n",
       "      <td>496771</td>\n",
       "      <td>23251</td>\n",
       "      <td>1856</td>\n",
       "      <td>7647</td>\n",
       "      <td>https://i.ytimg.com/vi/kXLn3HkpjaA/default.jpg</td>\n",
       "      <td>False</td>\n",
       "      <td>False</td>\n",
       "      <td>Subscribe to XXL → http://bit.ly/subscribe-xxl...</td>\n",
       "    </tr>\n",
       "    <tr>\n",
       "      <th>4</th>\n",
       "      <td>VIUo6yapDbc</td>\n",
       "      <td>Ultimate DIY Home Movie Theater for The LaBran...</td>\n",
       "      <td>2020-08-11T15:10:05Z</td>\n",
       "      <td>UCDVPcEbVLQgLZX0Rt6jo34A</td>\n",
       "      <td>Mr. Kate</td>\n",
       "      <td>26</td>\n",
       "      <td>2020-08-12T00:00:00Z</td>\n",
       "      <td>The LaBrant Family|DIY|Interior Design|Makeove...</td>\n",
       "      <td>1123889</td>\n",
       "      <td>45802</td>\n",
       "      <td>964</td>\n",
       "      <td>2196</td>\n",
       "      <td>https://i.ytimg.com/vi/VIUo6yapDbc/default.jpg</td>\n",
       "      <td>False</td>\n",
       "      <td>False</td>\n",
       "      <td>Transforming The LaBrant Family's empty white ...</td>\n",
       "    </tr>\n",
       "  </tbody>\n",
       "</table>\n",
       "</div>"
      ],
      "text/plain": [
       "      video_id                                              title  \\\n",
       "0  3C66w5Z0ixs                 I ASKED HER TO BE MY GIRLFRIEND...   \n",
       "1  M9Pmf9AB4Mo  Apex Legends | Stories from the Outlands – “Th...   \n",
       "2  J78aPJ3VyNs  I left youtube for a month and THIS is what ha...   \n",
       "3  kXLn3HkpjaA  XXL 2020 Freshman Class Revealed - Official An...   \n",
       "4  VIUo6yapDbc  Ultimate DIY Home Movie Theater for The LaBran...   \n",
       "\n",
       "            publishedAt                 channelId   channelTitle  categoryId  \\\n",
       "0  2020-08-11T19:20:14Z  UCvtRTOMP2TqYqu51xNrqAzg       Brawadis          22   \n",
       "1  2020-08-11T17:00:10Z  UC0ZV6M2THA81QT9hrVWJG3A   Apex Legends          20   \n",
       "2  2020-08-11T16:34:06Z  UCYzPXprvl5Y-Sf0g4vX-m6g  jacksepticeye          24   \n",
       "3  2020-08-11T16:38:55Z  UCbg_UMjlHJg_19SZckaKajg            XXL          10   \n",
       "4  2020-08-11T15:10:05Z  UCDVPcEbVLQgLZX0Rt6jo34A       Mr. Kate          26   \n",
       "\n",
       "          trending_date                                               tags  \\\n",
       "0  2020-08-12T00:00:00Z  brawadis|prank|basketball|skits|ghost|funny vi...   \n",
       "1  2020-08-12T00:00:00Z  Apex Legends|Apex Legends characters|new Apex ...   \n",
       "2  2020-08-12T00:00:00Z  jacksepticeye|funny|funny meme|memes|jacksepti...   \n",
       "3  2020-08-12T00:00:00Z  xxl freshman|xxl freshmen|2020 xxl freshman|20...   \n",
       "4  2020-08-12T00:00:00Z  The LaBrant Family|DIY|Interior Design|Makeove...   \n",
       "\n",
       "   view_count   likes  dislikes  comment_count  \\\n",
       "0     1514614  156908      5855          35313   \n",
       "1     2381688  146739      2794          16549   \n",
       "2     2038853  353787      2628          40221   \n",
       "3      496771   23251      1856           7647   \n",
       "4     1123889   45802       964           2196   \n",
       "\n",
       "                                   thumbnail_link  comments_disabled  \\\n",
       "0  https://i.ytimg.com/vi/3C66w5Z0ixs/default.jpg              False   \n",
       "1  https://i.ytimg.com/vi/M9Pmf9AB4Mo/default.jpg              False   \n",
       "2  https://i.ytimg.com/vi/J78aPJ3VyNs/default.jpg              False   \n",
       "3  https://i.ytimg.com/vi/kXLn3HkpjaA/default.jpg              False   \n",
       "4  https://i.ytimg.com/vi/VIUo6yapDbc/default.jpg              False   \n",
       "\n",
       "   ratings_disabled                                        description  \n",
       "0             False  SUBSCRIBE to BRAWADIS ▶ http://bit.ly/Subscrib...  \n",
       "1             False  While running her own modding shop, Ramya Pare...  \n",
       "2             False  I left youtube for a month and this is what ha...  \n",
       "3             False  Subscribe to XXL → http://bit.ly/subscribe-xxl...  \n",
       "4             False  Transforming The LaBrant Family's empty white ...  "
      ]
     },
     "execution_count": 11,
     "metadata": {},
     "output_type": "execute_result"
    }
   ],
   "source": [
    "df.head()"
   ]
  },
  {
   "cell_type": "code",
   "execution_count": 12,
   "metadata": {},
   "outputs": [
    {
     "data": {
      "text/html": [
       "<div>\n",
       "<style scoped>\n",
       "    .dataframe tbody tr th:only-of-type {\n",
       "        vertical-align: middle;\n",
       "    }\n",
       "\n",
       "    .dataframe tbody tr th {\n",
       "        vertical-align: top;\n",
       "    }\n",
       "\n",
       "    .dataframe thead th {\n",
       "        text-align: right;\n",
       "    }\n",
       "</style>\n",
       "<table border=\"1\" class=\"dataframe\">\n",
       "  <thead>\n",
       "    <tr style=\"text-align: right;\">\n",
       "      <th></th>\n",
       "      <th>video_id</th>\n",
       "      <th>trending_date</th>\n",
       "      <th>title</th>\n",
       "      <th>channel_title</th>\n",
       "      <th>category_id</th>\n",
       "      <th>publish_time</th>\n",
       "      <th>tags</th>\n",
       "      <th>views</th>\n",
       "      <th>likes</th>\n",
       "      <th>dislikes</th>\n",
       "      <th>comment_count</th>\n",
       "      <th>thumbnail_link</th>\n",
       "      <th>comments_disabled</th>\n",
       "      <th>ratings_disabled</th>\n",
       "      <th>video_error_or_removed</th>\n",
       "      <th>description</th>\n",
       "    </tr>\n",
       "  </thead>\n",
       "  <tbody>\n",
       "    <tr>\n",
       "      <th>0</th>\n",
       "      <td>2kyS6SvSYSE</td>\n",
       "      <td>17.14.11</td>\n",
       "      <td>WE WANT TO TALK ABOUT OUR MARRIAGE</td>\n",
       "      <td>CaseyNeistat</td>\n",
       "      <td>22</td>\n",
       "      <td>2017-11-13T17:13:01.000Z</td>\n",
       "      <td>SHANtell martin</td>\n",
       "      <td>748374</td>\n",
       "      <td>57527</td>\n",
       "      <td>2966</td>\n",
       "      <td>15954</td>\n",
       "      <td>https://i.ytimg.com/vi/2kyS6SvSYSE/default.jpg</td>\n",
       "      <td>False</td>\n",
       "      <td>False</td>\n",
       "      <td>False</td>\n",
       "      <td>SHANTELL'S CHANNEL - https://www.youtube.com/s...</td>\n",
       "    </tr>\n",
       "    <tr>\n",
       "      <th>1</th>\n",
       "      <td>1ZAPwfrtAFY</td>\n",
       "      <td>17.14.11</td>\n",
       "      <td>The Trump Presidency: Last Week Tonight with J...</td>\n",
       "      <td>LastWeekTonight</td>\n",
       "      <td>24</td>\n",
       "      <td>2017-11-13T07:30:00.000Z</td>\n",
       "      <td>last week tonight trump presidency|\"last week ...</td>\n",
       "      <td>2418783</td>\n",
       "      <td>97185</td>\n",
       "      <td>6146</td>\n",
       "      <td>12703</td>\n",
       "      <td>https://i.ytimg.com/vi/1ZAPwfrtAFY/default.jpg</td>\n",
       "      <td>False</td>\n",
       "      <td>False</td>\n",
       "      <td>False</td>\n",
       "      <td>One year after the presidential election, John...</td>\n",
       "    </tr>\n",
       "    <tr>\n",
       "      <th>2</th>\n",
       "      <td>5qpjK5DgCt4</td>\n",
       "      <td>17.14.11</td>\n",
       "      <td>Racist Superman | Rudy Mancuso, King Bach &amp; Le...</td>\n",
       "      <td>Rudy Mancuso</td>\n",
       "      <td>23</td>\n",
       "      <td>2017-11-12T19:05:24.000Z</td>\n",
       "      <td>racist superman|\"rudy\"|\"mancuso\"|\"king\"|\"bach\"...</td>\n",
       "      <td>3191434</td>\n",
       "      <td>146033</td>\n",
       "      <td>5339</td>\n",
       "      <td>8181</td>\n",
       "      <td>https://i.ytimg.com/vi/5qpjK5DgCt4/default.jpg</td>\n",
       "      <td>False</td>\n",
       "      <td>False</td>\n",
       "      <td>False</td>\n",
       "      <td>WATCH MY PREVIOUS VIDEO ▶ \\n\\nSUBSCRIBE ► http...</td>\n",
       "    </tr>\n",
       "    <tr>\n",
       "      <th>3</th>\n",
       "      <td>puqaWrEC7tY</td>\n",
       "      <td>17.14.11</td>\n",
       "      <td>Nickelback Lyrics: Real or Fake?</td>\n",
       "      <td>Good Mythical Morning</td>\n",
       "      <td>24</td>\n",
       "      <td>2017-11-13T11:00:04.000Z</td>\n",
       "      <td>rhett and link|\"gmm\"|\"good mythical morning\"|\"...</td>\n",
       "      <td>343168</td>\n",
       "      <td>10172</td>\n",
       "      <td>666</td>\n",
       "      <td>2146</td>\n",
       "      <td>https://i.ytimg.com/vi/puqaWrEC7tY/default.jpg</td>\n",
       "      <td>False</td>\n",
       "      <td>False</td>\n",
       "      <td>False</td>\n",
       "      <td>Today we find out if Link is a Nickelback amat...</td>\n",
       "    </tr>\n",
       "    <tr>\n",
       "      <th>4</th>\n",
       "      <td>d380meD0W0M</td>\n",
       "      <td>17.14.11</td>\n",
       "      <td>I Dare You: GOING BALD!?</td>\n",
       "      <td>nigahiga</td>\n",
       "      <td>24</td>\n",
       "      <td>2017-11-12T18:01:41.000Z</td>\n",
       "      <td>ryan|\"higa\"|\"higatv\"|\"nigahiga\"|\"i dare you\"|\"...</td>\n",
       "      <td>2095731</td>\n",
       "      <td>132235</td>\n",
       "      <td>1989</td>\n",
       "      <td>17518</td>\n",
       "      <td>https://i.ytimg.com/vi/d380meD0W0M/default.jpg</td>\n",
       "      <td>False</td>\n",
       "      <td>False</td>\n",
       "      <td>False</td>\n",
       "      <td>I know it's been a while since we did this sho...</td>\n",
       "    </tr>\n",
       "  </tbody>\n",
       "</table>\n",
       "</div>"
      ],
      "text/plain": [
       "      video_id trending_date  \\\n",
       "0  2kyS6SvSYSE      17.14.11   \n",
       "1  1ZAPwfrtAFY      17.14.11   \n",
       "2  5qpjK5DgCt4      17.14.11   \n",
       "3  puqaWrEC7tY      17.14.11   \n",
       "4  d380meD0W0M      17.14.11   \n",
       "\n",
       "                                               title          channel_title  \\\n",
       "0                 WE WANT TO TALK ABOUT OUR MARRIAGE           CaseyNeistat   \n",
       "1  The Trump Presidency: Last Week Tonight with J...        LastWeekTonight   \n",
       "2  Racist Superman | Rudy Mancuso, King Bach & Le...           Rudy Mancuso   \n",
       "3                   Nickelback Lyrics: Real or Fake?  Good Mythical Morning   \n",
       "4                           I Dare You: GOING BALD!?               nigahiga   \n",
       "\n",
       "   category_id              publish_time  \\\n",
       "0           22  2017-11-13T17:13:01.000Z   \n",
       "1           24  2017-11-13T07:30:00.000Z   \n",
       "2           23  2017-11-12T19:05:24.000Z   \n",
       "3           24  2017-11-13T11:00:04.000Z   \n",
       "4           24  2017-11-12T18:01:41.000Z   \n",
       "\n",
       "                                                tags    views   likes  \\\n",
       "0                                    SHANtell martin   748374   57527   \n",
       "1  last week tonight trump presidency|\"last week ...  2418783   97185   \n",
       "2  racist superman|\"rudy\"|\"mancuso\"|\"king\"|\"bach\"...  3191434  146033   \n",
       "3  rhett and link|\"gmm\"|\"good mythical morning\"|\"...   343168   10172   \n",
       "4  ryan|\"higa\"|\"higatv\"|\"nigahiga\"|\"i dare you\"|\"...  2095731  132235   \n",
       "\n",
       "   dislikes  comment_count                                  thumbnail_link  \\\n",
       "0      2966          15954  https://i.ytimg.com/vi/2kyS6SvSYSE/default.jpg   \n",
       "1      6146          12703  https://i.ytimg.com/vi/1ZAPwfrtAFY/default.jpg   \n",
       "2      5339           8181  https://i.ytimg.com/vi/5qpjK5DgCt4/default.jpg   \n",
       "3       666           2146  https://i.ytimg.com/vi/puqaWrEC7tY/default.jpg   \n",
       "4      1989          17518  https://i.ytimg.com/vi/d380meD0W0M/default.jpg   \n",
       "\n",
       "   comments_disabled  ratings_disabled  video_error_or_removed  \\\n",
       "0              False             False                   False   \n",
       "1              False             False                   False   \n",
       "2              False             False                   False   \n",
       "3              False             False                   False   \n",
       "4              False             False                   False   \n",
       "\n",
       "                                         description  \n",
       "0  SHANTELL'S CHANNEL - https://www.youtube.com/s...  \n",
       "1  One year after the presidential election, John...  \n",
       "2  WATCH MY PREVIOUS VIDEO ▶ \\n\\nSUBSCRIBE ► http...  \n",
       "3  Today we find out if Link is a Nickelback amat...  \n",
       "4  I know it's been a while since we did this sho...  "
      ]
     },
     "execution_count": 12,
     "metadata": {},
     "output_type": "execute_result"
    }
   ],
   "source": [
    "df2.head()"
   ]
  },
  {
   "cell_type": "markdown",
   "metadata": {},
   "source": [
    "#now checking if any of these random data taken (from 2 diff sources , have any chess/coding/#maths related title)\n",
    "#how ? -> check for tags. as these are very popular keywords , if present in any of the row , # #that row will be deleted"
   ]
  },
  {
   "cell_type": "code",
   "execution_count": 13,
   "metadata": {},
   "outputs": [],
   "source": [
    "keywords = ['chess', 'math', 'coding', 'webdevelopment', 'computer science', 'computer']\n",
    "\n",
    "pattern = r'\\b(?:' + '|'.join(keywords) + r')\\b'\n",
    "filtered_df = df2[~df2['tags'].str.contains(pattern, case=False, na=False)]\n",
    "filtered_df.to_csv('filtered_data.csv', index=False)"
   ]
  },
  {
   "cell_type": "code",
   "execution_count": 14,
   "metadata": {},
   "outputs": [
    {
     "name": "stdout",
     "output_type": "stream",
     "text": [
      "<class 'pandas.core.frame.DataFrame'>\n",
      "Index: 651 entries, 32 to 40898\n",
      "Data columns (total 16 columns):\n",
      " #   Column                  Non-Null Count  Dtype \n",
      "---  ------                  --------------  ----- \n",
      " 0   video_id                651 non-null    object\n",
      " 1   trending_date           651 non-null    object\n",
      " 2   title                   651 non-null    object\n",
      " 3   channel_title           651 non-null    object\n",
      " 4   category_id             651 non-null    int64 \n",
      " 5   publish_time            651 non-null    object\n",
      " 6   tags                    651 non-null    object\n",
      " 7   views                   651 non-null    int64 \n",
      " 8   likes                   651 non-null    int64 \n",
      " 9   dislikes                651 non-null    int64 \n",
      " 10  comment_count           651 non-null    int64 \n",
      " 11  thumbnail_link          651 non-null    object\n",
      " 12  comments_disabled       651 non-null    bool  \n",
      " 13  ratings_disabled        651 non-null    bool  \n",
      " 14  video_error_or_removed  651 non-null    bool  \n",
      " 15  description             651 non-null    object\n",
      "dtypes: bool(3), int64(5), object(8)\n",
      "memory usage: 73.1+ KB\n"
     ]
    }
   ],
   "source": [
    "category_data = df2[df2['tags'].str.contains('|'.join(keywords) , case = False  , na = False)]\n",
    "category_data.head()\n",
    "category_data.info()"
   ]
  },
  {
   "cell_type": "code",
   "execution_count": 15,
   "metadata": {},
   "outputs": [],
   "source": [
    "filtered_df1 = df[~df['tags'].str.contains('|'.join(keywords) , case = False  , na = False)]\n",
    "filtered_df.to_csv('filtered_data1.csv')"
   ]
  },
  {
   "cell_type": "code",
   "execution_count": 16,
   "metadata": {},
   "outputs": [
    {
     "name": "stdout",
     "output_type": "stream",
     "text": [
      "<class 'pandas.core.frame.DataFrame'>\n",
      "Index: 2254 entries, 169 to 268721\n",
      "Data columns (total 16 columns):\n",
      " #   Column             Non-Null Count  Dtype \n",
      "---  ------             --------------  ----- \n",
      " 0   video_id           2254 non-null   object\n",
      " 1   title              2254 non-null   object\n",
      " 2   publishedAt        2254 non-null   object\n",
      " 3   channelId          2254 non-null   object\n",
      " 4   channelTitle       2254 non-null   object\n",
      " 5   categoryId         2254 non-null   int64 \n",
      " 6   trending_date      2254 non-null   object\n",
      " 7   tags               2254 non-null   object\n",
      " 8   view_count         2254 non-null   int64 \n",
      " 9   likes              2254 non-null   int64 \n",
      " 10  dislikes           2254 non-null   int64 \n",
      " 11  comment_count      2254 non-null   int64 \n",
      " 12  thumbnail_link     2254 non-null   object\n",
      " 13  comments_disabled  2254 non-null   bool  \n",
      " 14  ratings_disabled   2254 non-null   bool  \n",
      " 15  description        2251 non-null   object\n",
      "dtypes: bool(2), int64(5), object(9)\n",
      "memory usage: 268.5+ KB\n"
     ]
    }
   ],
   "source": [
    "category_data1 = df[df['tags'].str.contains('|'.join(keywords) , case = False  , na = False)]\n",
    "category_data1.head()\n",
    "category_data1.info()"
   ]
  },
  {
   "cell_type": "code",
   "execution_count": 17,
   "metadata": {},
   "outputs": [],
   "source": [
    "filtered_df_main = pd.concat([filtered_df , filtered_df1] , axis = 0)"
   ]
  },
  {
   "cell_type": "code",
   "execution_count": 18,
   "metadata": {},
   "outputs": [
    {
     "name": "stdout",
     "output_type": "stream",
     "text": [
      "<class 'pandas.core.frame.DataFrame'>\n",
      "Index: 307096 entries, 0 to 268786\n",
      "Data columns (total 21 columns):\n",
      " #   Column                  Non-Null Count   Dtype  \n",
      "---  ------                  --------------   -----  \n",
      " 0   video_id                307096 non-null  object \n",
      " 1   trending_date           307096 non-null  object \n",
      " 2   title                   307096 non-null  object \n",
      " 3   channel_title           40563 non-null   object \n",
      " 4   category_id             40563 non-null   float64\n",
      " 5   publish_time            40563 non-null   object \n",
      " 6   tags                    307096 non-null  object \n",
      " 7   views                   40563 non-null   float64\n",
      " 8   likes                   307096 non-null  int64  \n",
      " 9   dislikes                307096 non-null  int64  \n",
      " 10  comment_count           307096 non-null  int64  \n",
      " 11  thumbnail_link          307096 non-null  object \n",
      " 12  comments_disabled       307096 non-null  bool   \n",
      " 13  ratings_disabled        307096 non-null  bool   \n",
      " 14  video_error_or_removed  40563 non-null   object \n",
      " 15  description             301980 non-null  object \n",
      " 16  publishedAt             266533 non-null  object \n",
      " 17  channelId               266533 non-null  object \n",
      " 18  channelTitle            266533 non-null  object \n",
      " 19  categoryId              266533 non-null  float64\n",
      " 20  view_count              266533 non-null  float64\n",
      "dtypes: bool(2), float64(4), int64(3), object(12)\n",
      "memory usage: 47.4+ MB\n"
     ]
    }
   ],
   "source": [
    "filtered_df_main.head()\n",
    "filtered_df_main.describe()\n",
    "filtered_df_main.info()"
   ]
  },
  {
   "cell_type": "code",
   "execution_count": 19,
   "metadata": {},
   "outputs": [
    {
     "data": {
      "text/html": [
       "<div>\n",
       "<style scoped>\n",
       "    .dataframe tbody tr th:only-of-type {\n",
       "        vertical-align: middle;\n",
       "    }\n",
       "\n",
       "    .dataframe tbody tr th {\n",
       "        vertical-align: top;\n",
       "    }\n",
       "\n",
       "    .dataframe thead th {\n",
       "        text-align: right;\n",
       "    }\n",
       "</style>\n",
       "<table border=\"1\" class=\"dataframe\">\n",
       "  <thead>\n",
       "    <tr style=\"text-align: right;\">\n",
       "      <th></th>\n",
       "      <th>category_id</th>\n",
       "      <th>views</th>\n",
       "      <th>likes</th>\n",
       "      <th>dislikes</th>\n",
       "      <th>comment_count</th>\n",
       "      <th>categoryId</th>\n",
       "      <th>view_count</th>\n",
       "    </tr>\n",
       "  </thead>\n",
       "  <tbody>\n",
       "    <tr>\n",
       "      <th>count</th>\n",
       "      <td>6399.000000</td>\n",
       "      <td>6.399000e+03</td>\n",
       "      <td>5.445800e+04</td>\n",
       "      <td>54458.000000</td>\n",
       "      <td>5.445800e+04</td>\n",
       "      <td>48059.000000</td>\n",
       "      <td>4.805900e+04</td>\n",
       "    </tr>\n",
       "    <tr>\n",
       "      <th>mean</th>\n",
       "      <td>20.415690</td>\n",
       "      <td>7.751703e+05</td>\n",
       "      <td>7.334844e+04</td>\n",
       "      <td>672.955048</td>\n",
       "      <td>6.163893e+03</td>\n",
       "      <td>18.745355</td>\n",
       "      <td>1.282409e+06</td>\n",
       "    </tr>\n",
       "    <tr>\n",
       "      <th>std</th>\n",
       "      <td>7.211539</td>\n",
       "      <td>1.975996e+06</td>\n",
       "      <td>2.138885e+05</td>\n",
       "      <td>5306.828359</td>\n",
       "      <td>3.558544e+04</td>\n",
       "      <td>6.688984</td>\n",
       "      <td>4.155643e+06</td>\n",
       "    </tr>\n",
       "    <tr>\n",
       "      <th>min</th>\n",
       "      <td>1.000000</td>\n",
       "      <td>5.490000e+02</td>\n",
       "      <td>0.000000e+00</td>\n",
       "      <td>0.000000</td>\n",
       "      <td>0.000000e+00</td>\n",
       "      <td>1.000000</td>\n",
       "      <td>0.000000e+00</td>\n",
       "    </tr>\n",
       "    <tr>\n",
       "      <th>25%</th>\n",
       "      <td>17.000000</td>\n",
       "      <td>8.386600e+04</td>\n",
       "      <td>1.129025e+04</td>\n",
       "      <td>0.000000</td>\n",
       "      <td>8.790000e+02</td>\n",
       "      <td>17.000000</td>\n",
       "      <td>3.163730e+05</td>\n",
       "    </tr>\n",
       "    <tr>\n",
       "      <th>50%</th>\n",
       "      <td>24.000000</td>\n",
       "      <td>2.755840e+05</td>\n",
       "      <td>2.575000e+04</td>\n",
       "      <td>0.000000</td>\n",
       "      <td>1.967000e+03</td>\n",
       "      <td>20.000000</td>\n",
       "      <td>5.790860e+05</td>\n",
       "    </tr>\n",
       "    <tr>\n",
       "      <th>75%</th>\n",
       "      <td>25.000000</td>\n",
       "      <td>7.633565e+05</td>\n",
       "      <td>6.166150e+04</td>\n",
       "      <td>363.000000</td>\n",
       "      <td>4.493000e+03</td>\n",
       "      <td>24.000000</td>\n",
       "      <td>1.211266e+06</td>\n",
       "    </tr>\n",
       "    <tr>\n",
       "      <th>max</th>\n",
       "      <td>43.000000</td>\n",
       "      <td>4.843165e+07</td>\n",
       "      <td>7.114337e+06</td>\n",
       "      <td>629120.000000</td>\n",
       "      <td>3.400291e+06</td>\n",
       "      <td>29.000000</td>\n",
       "      <td>6.287186e+08</td>\n",
       "    </tr>\n",
       "  </tbody>\n",
       "</table>\n",
       "</div>"
      ],
      "text/plain": [
       "       category_id         views         likes       dislikes  comment_count  \\\n",
       "count  6399.000000  6.399000e+03  5.445800e+04   54458.000000   5.445800e+04   \n",
       "mean     20.415690  7.751703e+05  7.334844e+04     672.955048   6.163893e+03   \n",
       "std       7.211539  1.975996e+06  2.138885e+05    5306.828359   3.558544e+04   \n",
       "min       1.000000  5.490000e+02  0.000000e+00       0.000000   0.000000e+00   \n",
       "25%      17.000000  8.386600e+04  1.129025e+04       0.000000   8.790000e+02   \n",
       "50%      24.000000  2.755840e+05  2.575000e+04       0.000000   1.967000e+03   \n",
       "75%      25.000000  7.633565e+05  6.166150e+04     363.000000   4.493000e+03   \n",
       "max      43.000000  4.843165e+07  7.114337e+06  629120.000000   3.400291e+06   \n",
       "\n",
       "         categoryId    view_count  \n",
       "count  48059.000000  4.805900e+04  \n",
       "mean      18.745355  1.282409e+06  \n",
       "std        6.688984  4.155643e+06  \n",
       "min        1.000000  0.000000e+00  \n",
       "25%       17.000000  3.163730e+05  \n",
       "50%       20.000000  5.790860e+05  \n",
       "75%       24.000000  1.211266e+06  \n",
       "max       29.000000  6.287186e+08  "
      ]
     },
     "execution_count": 19,
     "metadata": {},
     "output_type": "execute_result"
    }
   ],
   "source": [
    "filtered_df_main.drop_duplicates(subset=['title']).describe()\n"
   ]
  },
  {
   "cell_type": "code",
   "execution_count": 20,
   "metadata": {},
   "outputs": [
    {
     "data": {
      "text/plain": [
       "<bound method NDFrame.describe of           video_id trending_date  \\\n",
       "0      2kyS6SvSYSE      17.14.11   \n",
       "1      1ZAPwfrtAFY      17.14.11   \n",
       "2      5qpjK5DgCt4      17.14.11   \n",
       "3      puqaWrEC7tY      17.14.11   \n",
       "4      d380meD0W0M      17.14.11   \n",
       "...            ...           ...   \n",
       "40944  BZt0qjTWNhw      18.14.06   \n",
       "40945  1h7KV2sjUWY      18.14.06   \n",
       "40946  D6Oy4LfoqsU      18.14.06   \n",
       "40947  oV0zkMe1K8s      18.14.06   \n",
       "40948  ooyjaVdt-jA      18.14.06   \n",
       "\n",
       "                                                   title  \\\n",
       "0                     WE WANT TO TALK ABOUT OUR MARRIAGE   \n",
       "1      The Trump Presidency: Last Week Tonight with J...   \n",
       "2      Racist Superman | Rudy Mancuso, King Bach & Le...   \n",
       "3                       Nickelback Lyrics: Real or Fake?   \n",
       "4                               I Dare You: GOING BALD!?   \n",
       "...                                                  ...   \n",
       "40944                       The Cat Who Caught the Laser   \n",
       "40945                         True Facts : Ant Mutualism   \n",
       "40946  I GAVE SAFIYA NYGAARD A PERFECT HAIR MAKEOVER ...   \n",
       "40947                How Black Panther Should Have Ended   \n",
       "40948  Official Call of Duty®: Black Ops 4 — Multipla...   \n",
       "\n",
       "                  channel_title  category_id              publish_time  \\\n",
       "0                  CaseyNeistat           22  2017-11-13T17:13:01.000Z   \n",
       "1               LastWeekTonight           24  2017-11-13T07:30:00.000Z   \n",
       "2                  Rudy Mancuso           23  2017-11-12T19:05:24.000Z   \n",
       "3         Good Mythical Morning           24  2017-11-13T11:00:04.000Z   \n",
       "4                      nigahiga           24  2017-11-12T18:01:41.000Z   \n",
       "...                         ...          ...                       ...   \n",
       "40944             AaronsAnimals           15  2018-05-18T13:00:04.000Z   \n",
       "40945                  zefrank1           22  2018-05-18T01:00:06.000Z   \n",
       "40946                Brad Mondo           24  2018-05-18T17:34:22.000Z   \n",
       "40947  How It Should Have Ended            1  2018-05-17T17:00:04.000Z   \n",
       "40948              Call of Duty           20  2018-05-17T17:09:38.000Z   \n",
       "\n",
       "                                                    tags     views   likes  \\\n",
       "0                                        SHANtell martin    748374   57527   \n",
       "1      last week tonight trump presidency|\"last week ...   2418783   97185   \n",
       "2      racist superman|\"rudy\"|\"mancuso\"|\"king\"|\"bach\"...   3191434  146033   \n",
       "3      rhett and link|\"gmm\"|\"good mythical morning\"|\"...    343168   10172   \n",
       "4      ryan|\"higa\"|\"higatv\"|\"nigahiga\"|\"i dare you\"|\"...   2095731  132235   \n",
       "...                                                  ...       ...     ...   \n",
       "40944  aarons animals|\"aarons\"|\"animals\"|\"cat\"|\"cats\"...   1685609   38160   \n",
       "40945                                             [none]   1064798   60008   \n",
       "40946  I gave safiya nygaard a perfect hair makeover ...   1066451   48068   \n",
       "40947  Black Panther|\"HISHE\"|\"Marvel\"|\"Infinity War\"|...   5660813  192957   \n",
       "40948      call of duty|\"cod\"|\"activision\"|\"Black Ops 4\"  10306119  357079   \n",
       "\n",
       "       dislikes  comment_count  \\\n",
       "0          2966          15954   \n",
       "1          6146          12703   \n",
       "2          5339           8181   \n",
       "3           666           2146   \n",
       "4          1989          17518   \n",
       "...         ...            ...   \n",
       "40944      1385           2657   \n",
       "40945       382           3936   \n",
       "40946      1032           3992   \n",
       "40947      2846          13088   \n",
       "40948    212976         144795   \n",
       "\n",
       "                                       thumbnail_link  comments_disabled  \\\n",
       "0      https://i.ytimg.com/vi/2kyS6SvSYSE/default.jpg              False   \n",
       "1      https://i.ytimg.com/vi/1ZAPwfrtAFY/default.jpg              False   \n",
       "2      https://i.ytimg.com/vi/5qpjK5DgCt4/default.jpg              False   \n",
       "3      https://i.ytimg.com/vi/puqaWrEC7tY/default.jpg              False   \n",
       "4      https://i.ytimg.com/vi/d380meD0W0M/default.jpg              False   \n",
       "...                                               ...                ...   \n",
       "40944  https://i.ytimg.com/vi/BZt0qjTWNhw/default.jpg              False   \n",
       "40945  https://i.ytimg.com/vi/1h7KV2sjUWY/default.jpg              False   \n",
       "40946  https://i.ytimg.com/vi/D6Oy4LfoqsU/default.jpg              False   \n",
       "40947  https://i.ytimg.com/vi/oV0zkMe1K8s/default.jpg              False   \n",
       "40948  https://i.ytimg.com/vi/ooyjaVdt-jA/default.jpg              False   \n",
       "\n",
       "       ratings_disabled  video_error_or_removed  \\\n",
       "0                 False                   False   \n",
       "1                 False                   False   \n",
       "2                 False                   False   \n",
       "3                 False                   False   \n",
       "4                 False                   False   \n",
       "...                 ...                     ...   \n",
       "40944             False                   False   \n",
       "40945             False                   False   \n",
       "40946             False                   False   \n",
       "40947             False                   False   \n",
       "40948             False                   False   \n",
       "\n",
       "                                             description  \n",
       "0      SHANTELL'S CHANNEL - https://www.youtube.com/s...  \n",
       "1      One year after the presidential election, John...  \n",
       "2      WATCH MY PREVIOUS VIDEO ▶ \\n\\nSUBSCRIBE ► http...  \n",
       "3      Today we find out if Link is a Nickelback amat...  \n",
       "4      I know it's been a while since we did this sho...  \n",
       "...                                                  ...  \n",
       "40944     The Cat Who Caught the Laser - Aaron's Animals  \n",
       "40945                                                NaN  \n",
       "40946  I had so much fun transforming Safiyas hair in...  \n",
       "40947  How Black Panther Should Have EndedWatch More ...  \n",
       "40948  Call of Duty: Black Ops 4 Multiplayer raises t...  \n",
       "\n",
       "[40949 rows x 16 columns]>"
      ]
     },
     "execution_count": 20,
     "metadata": {},
     "output_type": "execute_result"
    }
   ],
   "source": [
    "df.describe\n",
    "df2.describe"
   ]
  },
  {
   "cell_type": "code",
   "execution_count": 21,
   "metadata": {},
   "outputs": [
    {
     "data": {
      "text/plain": [
       "<bound method NDFrame.describe of            video_id                                              title  \\\n",
       "0       3C66w5Z0ixs                 I ASKED HER TO BE MY GIRLFRIEND...   \n",
       "1       M9Pmf9AB4Mo  Apex Legends | Stories from the Outlands – “Th...   \n",
       "2       J78aPJ3VyNs  I left youtube for a month and THIS is what ha...   \n",
       "3       kXLn3HkpjaA  XXL 2020 Freshman Class Revealed - Official An...   \n",
       "4       VIUo6yapDbc  Ultimate DIY Home Movie Theater for The LaBran...   \n",
       "...             ...                                                ...   \n",
       "268782  4-uXvx5M7XA  Total solar eclipse causing tourism boost acro...   \n",
       "268783  aFsfJYWpqII  Food Delivery Apps: Last Week Tonight with Joh...   \n",
       "268784  pRAsQss17xs  12 Things NO-ONE Tells You About Japan | Feat....   \n",
       "268785  84QeCD7y_Ds                          Buying My Dream Car At 21   \n",
       "268786  SBTA3Tegacs                       Murder Drones Training Video   \n",
       "\n",
       "                 publishedAt                 channelId  \\\n",
       "0       2020-08-11T19:20:14Z  UCvtRTOMP2TqYqu51xNrqAzg   \n",
       "1       2020-08-11T17:00:10Z  UC0ZV6M2THA81QT9hrVWJG3A   \n",
       "2       2020-08-11T16:34:06Z  UCYzPXprvl5Y-Sf0g4vX-m6g   \n",
       "3       2020-08-11T16:38:55Z  UCbg_UMjlHJg_19SZckaKajg   \n",
       "4       2020-08-11T15:10:05Z  UCDVPcEbVLQgLZX0Rt6jo34A   \n",
       "...                      ...                       ...   \n",
       "268782  2024-04-08T15:55:44Z  UClwddNv0Cr6SIEGkzVK886w   \n",
       "268783  2024-04-04T11:00:02Z  UC3XTzVzaHQEd30rQbuvCtTQ   \n",
       "268784  2024-04-07T14:53:25Z  UCHL9bfHTxCMi-7vfxQ-AYtg   \n",
       "268785  2024-04-07T18:00:03Z  UChQ-d14tHB62nskossxO0tw   \n",
       "268786  2024-04-05T19:00:12Z  UCn_FAXem2-e3HQvmK-mOH4g   \n",
       "\n",
       "                      channelTitle  categoryId         trending_date  \\\n",
       "0                         Brawadis          22  2020-08-12T00:00:00Z   \n",
       "1                     Apex Legends          20  2020-08-12T00:00:00Z   \n",
       "2                    jacksepticeye          24  2020-08-12T00:00:00Z   \n",
       "3                              XXL          10  2020-08-12T00:00:00Z   \n",
       "4                         Mr. Kate          26  2020-08-12T00:00:00Z   \n",
       "...                            ...         ...                   ...   \n",
       "268782  FOX 9 Minneapolis-St. Paul          25  2024-04-15T00:00:00Z   \n",
       "268783             LastWeekTonight          24  2024-04-15T00:00:00Z   \n",
       "268784             Abroad in Japan          24  2024-04-15T00:00:00Z   \n",
       "268785                   Joe Fazer          24  2024-04-15T00:00:00Z   \n",
       "268786                      GLITCH           1  2024-04-15T00:00:00Z   \n",
       "\n",
       "                                                     tags  view_count   likes  \\\n",
       "0       brawadis|prank|basketball|skits|ghost|funny vi...     1514614  156908   \n",
       "1       Apex Legends|Apex Legends characters|new Apex ...     2381688  146739   \n",
       "2       jacksepticeye|funny|funny meme|memes|jacksepti...     2038853  353787   \n",
       "3       xxl freshman|xxl freshmen|2020 xxl freshman|20...      496771   23251   \n",
       "4       The LaBrant Family|DIY|Interior Design|Makeove...     1123889   45802   \n",
       "...                                                   ...         ...     ...   \n",
       "268782  morning-news|Eclipses|travel|travel news|weath...      359130    2345   \n",
       "268783                                             [None]     3998181  107811   \n",
       "268784          japan|cdawgva|abroad in japan|trash taste      873960   41941   \n",
       "268785  gym|youtube|bodybuilder|powerlifter|vlog|vlogg...      535842   42845   \n",
       "268786  meta runner|glitch productions|funny|video gam...     3073412  246678   \n",
       "\n",
       "        dislikes  comment_count  \\\n",
       "0           5855          35313   \n",
       "1           2794          16549   \n",
       "2           2628          40221   \n",
       "3           1856           7647   \n",
       "4            964           2196   \n",
       "...          ...            ...   \n",
       "268782         0            581   \n",
       "268783         0          10335   \n",
       "268784         0           1918   \n",
       "268785         0           1852   \n",
       "268786         0          14535   \n",
       "\n",
       "                                        thumbnail_link  comments_disabled  \\\n",
       "0       https://i.ytimg.com/vi/3C66w5Z0ixs/default.jpg              False   \n",
       "1       https://i.ytimg.com/vi/M9Pmf9AB4Mo/default.jpg              False   \n",
       "2       https://i.ytimg.com/vi/J78aPJ3VyNs/default.jpg              False   \n",
       "3       https://i.ytimg.com/vi/kXLn3HkpjaA/default.jpg              False   \n",
       "4       https://i.ytimg.com/vi/VIUo6yapDbc/default.jpg              False   \n",
       "...                                                ...                ...   \n",
       "268782  https://i.ytimg.com/vi/4-uXvx5M7XA/default.jpg              False   \n",
       "268783  https://i.ytimg.com/vi/aFsfJYWpqII/default.jpg              False   \n",
       "268784  https://i.ytimg.com/vi/pRAsQss17xs/default.jpg              False   \n",
       "268785  https://i.ytimg.com/vi/84QeCD7y_Ds/default.jpg              False   \n",
       "268786  https://i.ytimg.com/vi/SBTA3Tegacs/default.jpg              False   \n",
       "\n",
       "        ratings_disabled                                        description  \n",
       "0                  False  SUBSCRIBE to BRAWADIS ▶ http://bit.ly/Subscrib...  \n",
       "1                  False  While running her own modding shop, Ramya Pare...  \n",
       "2                  False  I left youtube for a month and this is what ha...  \n",
       "3                  False  Subscribe to XXL → http://bit.ly/subscribe-xxl...  \n",
       "4                  False  Transforming The LaBrant Family's empty white ...  \n",
       "...                  ...                                                ...  \n",
       "268782             False  Millions of people in the United States are tr...  \n",
       "268783             False  John Oliver discusses food delivery apps, how ...  \n",
       "268784             False  We reveal 12 things no-one tells you to expect...  \n",
       "268785             False  Use code JOE at checkout to get discounts on M...  \n",
       "268786             False  J IS FINALLY A PLUSH and NEW Corporate Murder ...  \n",
       "\n",
       "[268787 rows x 16 columns]>"
      ]
     },
     "execution_count": 21,
     "metadata": {},
     "output_type": "execute_result"
    }
   ],
   "source": [
    "df.describe"
   ]
  },
  {
   "cell_type": "code",
   "execution_count": 22,
   "metadata": {},
   "outputs": [
    {
     "data": {
      "text/plain": [
       "<bound method NDFrame.describe of           video_id trending_date  \\\n",
       "0      2kyS6SvSYSE      17.14.11   \n",
       "1      1ZAPwfrtAFY      17.14.11   \n",
       "2      5qpjK5DgCt4      17.14.11   \n",
       "3      puqaWrEC7tY      17.14.11   \n",
       "4      d380meD0W0M      17.14.11   \n",
       "...            ...           ...   \n",
       "40944  BZt0qjTWNhw      18.14.06   \n",
       "40945  1h7KV2sjUWY      18.14.06   \n",
       "40946  D6Oy4LfoqsU      18.14.06   \n",
       "40947  oV0zkMe1K8s      18.14.06   \n",
       "40948  ooyjaVdt-jA      18.14.06   \n",
       "\n",
       "                                                   title  \\\n",
       "0                     WE WANT TO TALK ABOUT OUR MARRIAGE   \n",
       "1      The Trump Presidency: Last Week Tonight with J...   \n",
       "2      Racist Superman | Rudy Mancuso, King Bach & Le...   \n",
       "3                       Nickelback Lyrics: Real or Fake?   \n",
       "4                               I Dare You: GOING BALD!?   \n",
       "...                                                  ...   \n",
       "40944                       The Cat Who Caught the Laser   \n",
       "40945                         True Facts : Ant Mutualism   \n",
       "40946  I GAVE SAFIYA NYGAARD A PERFECT HAIR MAKEOVER ...   \n",
       "40947                How Black Panther Should Have Ended   \n",
       "40948  Official Call of Duty®: Black Ops 4 — Multipla...   \n",
       "\n",
       "                  channel_title  category_id              publish_time  \\\n",
       "0                  CaseyNeistat           22  2017-11-13T17:13:01.000Z   \n",
       "1               LastWeekTonight           24  2017-11-13T07:30:00.000Z   \n",
       "2                  Rudy Mancuso           23  2017-11-12T19:05:24.000Z   \n",
       "3         Good Mythical Morning           24  2017-11-13T11:00:04.000Z   \n",
       "4                      nigahiga           24  2017-11-12T18:01:41.000Z   \n",
       "...                         ...          ...                       ...   \n",
       "40944             AaronsAnimals           15  2018-05-18T13:00:04.000Z   \n",
       "40945                  zefrank1           22  2018-05-18T01:00:06.000Z   \n",
       "40946                Brad Mondo           24  2018-05-18T17:34:22.000Z   \n",
       "40947  How It Should Have Ended            1  2018-05-17T17:00:04.000Z   \n",
       "40948              Call of Duty           20  2018-05-17T17:09:38.000Z   \n",
       "\n",
       "                                                    tags     views   likes  \\\n",
       "0                                        SHANtell martin    748374   57527   \n",
       "1      last week tonight trump presidency|\"last week ...   2418783   97185   \n",
       "2      racist superman|\"rudy\"|\"mancuso\"|\"king\"|\"bach\"...   3191434  146033   \n",
       "3      rhett and link|\"gmm\"|\"good mythical morning\"|\"...    343168   10172   \n",
       "4      ryan|\"higa\"|\"higatv\"|\"nigahiga\"|\"i dare you\"|\"...   2095731  132235   \n",
       "...                                                  ...       ...     ...   \n",
       "40944  aarons animals|\"aarons\"|\"animals\"|\"cat\"|\"cats\"...   1685609   38160   \n",
       "40945                                             [none]   1064798   60008   \n",
       "40946  I gave safiya nygaard a perfect hair makeover ...   1066451   48068   \n",
       "40947  Black Panther|\"HISHE\"|\"Marvel\"|\"Infinity War\"|...   5660813  192957   \n",
       "40948      call of duty|\"cod\"|\"activision\"|\"Black Ops 4\"  10306119  357079   \n",
       "\n",
       "       dislikes  comment_count  \\\n",
       "0          2966          15954   \n",
       "1          6146          12703   \n",
       "2          5339           8181   \n",
       "3           666           2146   \n",
       "4          1989          17518   \n",
       "...         ...            ...   \n",
       "40944      1385           2657   \n",
       "40945       382           3936   \n",
       "40946      1032           3992   \n",
       "40947      2846          13088   \n",
       "40948    212976         144795   \n",
       "\n",
       "                                       thumbnail_link  comments_disabled  \\\n",
       "0      https://i.ytimg.com/vi/2kyS6SvSYSE/default.jpg              False   \n",
       "1      https://i.ytimg.com/vi/1ZAPwfrtAFY/default.jpg              False   \n",
       "2      https://i.ytimg.com/vi/5qpjK5DgCt4/default.jpg              False   \n",
       "3      https://i.ytimg.com/vi/puqaWrEC7tY/default.jpg              False   \n",
       "4      https://i.ytimg.com/vi/d380meD0W0M/default.jpg              False   \n",
       "...                                               ...                ...   \n",
       "40944  https://i.ytimg.com/vi/BZt0qjTWNhw/default.jpg              False   \n",
       "40945  https://i.ytimg.com/vi/1h7KV2sjUWY/default.jpg              False   \n",
       "40946  https://i.ytimg.com/vi/D6Oy4LfoqsU/default.jpg              False   \n",
       "40947  https://i.ytimg.com/vi/oV0zkMe1K8s/default.jpg              False   \n",
       "40948  https://i.ytimg.com/vi/ooyjaVdt-jA/default.jpg              False   \n",
       "\n",
       "       ratings_disabled  video_error_or_removed  \\\n",
       "0                 False                   False   \n",
       "1                 False                   False   \n",
       "2                 False                   False   \n",
       "3                 False                   False   \n",
       "4                 False                   False   \n",
       "...                 ...                     ...   \n",
       "40944             False                   False   \n",
       "40945             False                   False   \n",
       "40946             False                   False   \n",
       "40947             False                   False   \n",
       "40948             False                   False   \n",
       "\n",
       "                                             description  \n",
       "0      SHANTELL'S CHANNEL - https://www.youtube.com/s...  \n",
       "1      One year after the presidential election, John...  \n",
       "2      WATCH MY PREVIOUS VIDEO ▶ \\n\\nSUBSCRIBE ► http...  \n",
       "3      Today we find out if Link is a Nickelback amat...  \n",
       "4      I know it's been a while since we did this sho...  \n",
       "...                                                  ...  \n",
       "40944     The Cat Who Caught the Laser - Aaron's Animals  \n",
       "40945                                                NaN  \n",
       "40946  I had so much fun transforming Safiyas hair in...  \n",
       "40947  How Black Panther Should Have EndedWatch More ...  \n",
       "40948  Call of Duty: Black Ops 4 Multiplayer raises t...  \n",
       "\n",
       "[40949 rows x 16 columns]>"
      ]
     },
     "execution_count": 22,
     "metadata": {},
     "output_type": "execute_result"
    }
   ],
   "source": [
    "df2.describe"
   ]
  },
  {
   "cell_type": "code",
   "execution_count": 23,
   "metadata": {},
   "outputs": [
    {
     "data": {
      "text/plain": [
       "<bound method NDFrame.describe of 0                        WE WANT TO TALK ABOUT OUR MARRIAGE\n",
       "1         The Trump Presidency: Last Week Tonight with J...\n",
       "2         Racist Superman | Rudy Mancuso, King Bach & Le...\n",
       "3                          Nickelback Lyrics: Real or Fake?\n",
       "4                                  I Dare You: GOING BALD!?\n",
       "                                ...                        \n",
       "268782    Total solar eclipse causing tourism boost acro...\n",
       "268783    Food Delivery Apps: Last Week Tonight with Joh...\n",
       "268784    12 Things NO-ONE Tells You About Japan | Feat....\n",
       "268785                            Buying My Dream Car At 21\n",
       "268786                         Murder Drones Training Video\n",
       "Name: title, Length: 307096, dtype: object>"
      ]
     },
     "execution_count": 23,
     "metadata": {},
     "output_type": "execute_result"
    }
   ],
   "source": [
    "filtered_df_main= filtered_df_main['title']\n",
    "filtered_df_main.describe\n"
   ]
  },
  {
   "cell_type": "code",
   "execution_count": 24,
   "metadata": {},
   "outputs": [
    {
     "name": "stdout",
     "output_type": "stream",
     "text": [
      "<class 'pandas.core.frame.DataFrame'>\n",
      "RangeIndex: 920 entries, 0 to 919\n",
      "Data columns (total 2 columns):\n",
      " #   Column   Non-Null Count  Dtype \n",
      "---  ------   --------------  ----- \n",
      " 0   Title    920 non-null    object\n",
      " 1   Keyword  920 non-null    object\n",
      "dtypes: object(2)\n",
      "memory usage: 14.5+ KB\n",
      "None\n",
      "\n",
      "First few rows:\n",
      "                                               Title Keyword\n",
      "0  \"🎦 Carlsen's magic vs Dubov's Briliance | Magn...   chess\n",
      "1         \"I Played England’s Youngest Chess Master\"   chess\n",
      "2  \"🎦 Magnus Carlsen vs Hikaru Nakamura || Norway...   chess\n",
      "3  \"My Grandmaster Mom Sneaked in to a Chess Tour...   chess\n",
      "4  \"When Pragg and Magnus are in the same team! #...   chess\n"
     ]
    }
   ],
   "source": [
    "# Read the CSV file with more robust parameters\n",
    "df_categories = pd.read_csv(\"title_keyword_pairs.csv\",\n",
    "                          sep=',',              # Use comma as delimiter\n",
    "                          quoting=3,            # QUOTE_NONE: Disable quote character\n",
    "                          escapechar='\\\\',      # Use backslash as escape character\n",
    "                          encoding='utf-8',     # Specify encoding\n",
    "                          on_bad_lines='skip'   # Skip problematic rows\n",
    "                          )\n",
    "\n",
    "# Alternative approach if the above doesn't work:\n",
    "# df_categories = pd.read_csv(\"title_keyword_pairs.csv\", \n",
    "#                           sep=',',\n",
    "#                           quoting=csv.QUOTE_ALL,  # Quote all fields\n",
    "#                           doublequote=True,       # Allow double quotes\n",
    "#                           encoding='utf-8',\n",
    "#                           on_bad_lines='skip'\n",
    "#                           )\n",
    "\n",
    "# Clean the data\n",
    "df_categories = df_categories.dropna()  # Remove any NaN values\n",
    "df_categories = df_categories.reset_index(drop=True)  # Reset index after dropping NaN\n",
    "\n",
    "print(df_categories.info())\n",
    "print(\"\\nFirst few rows:\")\n",
    "print(df_categories.head())"
   ]
  },
  {
   "cell_type": "code",
   "execution_count": 25,
   "metadata": {},
   "outputs": [
    {
     "data": {
      "text/html": [
       "<div>\n",
       "<style scoped>\n",
       "    .dataframe tbody tr th:only-of-type {\n",
       "        vertical-align: middle;\n",
       "    }\n",
       "\n",
       "    .dataframe tbody tr th {\n",
       "        vertical-align: top;\n",
       "    }\n",
       "\n",
       "    .dataframe thead th {\n",
       "        text-align: right;\n",
       "    }\n",
       "</style>\n",
       "<table border=\"1\" class=\"dataframe\">\n",
       "  <thead>\n",
       "    <tr style=\"text-align: right;\">\n",
       "      <th></th>\n",
       "      <th>Title</th>\n",
       "      <th>Keyword</th>\n",
       "    </tr>\n",
       "  </thead>\n",
       "  <tbody>\n",
       "    <tr>\n",
       "      <th>0</th>\n",
       "      <td>\"🎦 Carlsen's magic vs Dubov's Briliance | Magn...</td>\n",
       "      <td>chess</td>\n",
       "    </tr>\n",
       "    <tr>\n",
       "      <th>1</th>\n",
       "      <td>\"I Played England’s Youngest Chess Master\"</td>\n",
       "      <td>chess</td>\n",
       "    </tr>\n",
       "    <tr>\n",
       "      <th>2</th>\n",
       "      <td>\"🎦 Magnus Carlsen vs Hikaru Nakamura || Norway...</td>\n",
       "      <td>chess</td>\n",
       "    </tr>\n",
       "    <tr>\n",
       "      <th>3</th>\n",
       "      <td>\"My Grandmaster Mom Sneaked in to a Chess Tour...</td>\n",
       "      <td>chess</td>\n",
       "    </tr>\n",
       "    <tr>\n",
       "      <th>4</th>\n",
       "      <td>\"When Pragg and Magnus are in the same team! #...</td>\n",
       "      <td>chess</td>\n",
       "    </tr>\n",
       "  </tbody>\n",
       "</table>\n",
       "</div>"
      ],
      "text/plain": [
       "                                               Title Keyword\n",
       "0  \"🎦 Carlsen's magic vs Dubov's Briliance | Magn...   chess\n",
       "1         \"I Played England’s Youngest Chess Master\"   chess\n",
       "2  \"🎦 Magnus Carlsen vs Hikaru Nakamura || Norway...   chess\n",
       "3  \"My Grandmaster Mom Sneaked in to a Chess Tour...   chess\n",
       "4  \"When Pragg and Magnus are in the same team! #...   chess"
      ]
     },
     "execution_count": 25,
     "metadata": {},
     "output_type": "execute_result"
    }
   ],
   "source": [
    "df_categories.head()"
   ]
  },
  {
   "cell_type": "code",
   "execution_count": 26,
   "metadata": {},
   "outputs": [
    {
     "data": {
      "text/html": [
       "<div>\n",
       "<style scoped>\n",
       "    .dataframe tbody tr th:only-of-type {\n",
       "        vertical-align: middle;\n",
       "    }\n",
       "\n",
       "    .dataframe tbody tr th {\n",
       "        vertical-align: top;\n",
       "    }\n",
       "\n",
       "    .dataframe thead th {\n",
       "        text-align: right;\n",
       "    }\n",
       "</style>\n",
       "<table border=\"1\" class=\"dataframe\">\n",
       "  <thead>\n",
       "    <tr style=\"text-align: right;\">\n",
       "      <th></th>\n",
       "      <th>video_id</th>\n",
       "      <th>title</th>\n",
       "      <th>publishedAt</th>\n",
       "      <th>channelId</th>\n",
       "      <th>channelTitle</th>\n",
       "      <th>categoryId</th>\n",
       "      <th>trending_date</th>\n",
       "      <th>tags</th>\n",
       "      <th>view_count</th>\n",
       "      <th>likes</th>\n",
       "      <th>dislikes</th>\n",
       "      <th>comment_count</th>\n",
       "      <th>thumbnail_link</th>\n",
       "      <th>comments_disabled</th>\n",
       "      <th>ratings_disabled</th>\n",
       "      <th>description</th>\n",
       "    </tr>\n",
       "  </thead>\n",
       "  <tbody>\n",
       "    <tr>\n",
       "      <th>169</th>\n",
       "      <td>vrYcnMWWOeI</td>\n",
       "      <td>Odd1sOut VS Alex Clark: Planning Chess Boxing ...</td>\n",
       "      <td>2020-08-07T16:06:34Z</td>\n",
       "      <td>UCsDmESjqNPukDmVnuneLrqw</td>\n",
       "      <td>It's Alex Clark</td>\n",
       "      <td>1</td>\n",
       "      <td>2020-08-12T00:00:00Z</td>\n",
       "      <td>its alex clark|itsalexclark|alex clark|itsalex...</td>\n",
       "      <td>320855</td>\n",
       "      <td>18889</td>\n",
       "      <td>180</td>\n",
       "      <td>1306</td>\n",
       "      <td>https://i.ytimg.com/vi/vrYcnMWWOeI/default.jpg</td>\n",
       "      <td>False</td>\n",
       "      <td>False</td>\n",
       "      <td>I was totally floored with how much went into ...</td>\n",
       "    </tr>\n",
       "    <tr>\n",
       "      <th>199</th>\n",
       "      <td>gpY9qUbPXbM</td>\n",
       "      <td>Inside Beirut After the Explosion | WSJ</td>\n",
       "      <td>2020-08-06T15:44:24Z</td>\n",
       "      <td>UCK7tptUDHh-RYDsdxO1-5QQ</td>\n",
       "      <td>Wall Street Journal</td>\n",
       "      <td>25</td>\n",
       "      <td>2020-08-12T00:00:00Z</td>\n",
       "      <td>LEBANON|BEIRUT|EXPLOSION|HOMELESS|DISPLACED|RU...</td>\n",
       "      <td>587957</td>\n",
       "      <td>6949</td>\n",
       "      <td>314</td>\n",
       "      <td>1426</td>\n",
       "      <td>https://i.ytimg.com/vi/gpY9qUbPXbM/default.jpg</td>\n",
       "      <td>False</td>\n",
       "      <td>False</td>\n",
       "      <td>Note: Additional footage also provided by: Kar...</td>\n",
       "    </tr>\n",
       "    <tr>\n",
       "      <th>397</th>\n",
       "      <td>vrYcnMWWOeI</td>\n",
       "      <td>Odd1sOut VS Alex Clark: Planning Chess Boxing ...</td>\n",
       "      <td>2020-08-07T16:06:34Z</td>\n",
       "      <td>UCsDmESjqNPukDmVnuneLrqw</td>\n",
       "      <td>It's Alex Clark</td>\n",
       "      <td>1</td>\n",
       "      <td>2020-08-13T00:00:00Z</td>\n",
       "      <td>its alex clark|itsalexclark|alex clark|itsalex...</td>\n",
       "      <td>334663</td>\n",
       "      <td>19493</td>\n",
       "      <td>189</td>\n",
       "      <td>1332</td>\n",
       "      <td>https://i.ytimg.com/vi/vrYcnMWWOeI/default.jpg</td>\n",
       "      <td>False</td>\n",
       "      <td>False</td>\n",
       "      <td>I was totally floored with how much went into ...</td>\n",
       "    </tr>\n",
       "    <tr>\n",
       "      <th>1010</th>\n",
       "      <td>y8XvQNt26KI</td>\n",
       "      <td>Unlimited Resources From Space – Asteroid Mining</td>\n",
       "      <td>2020-08-16T12:29:23Z</td>\n",
       "      <td>UCsXVk37bltHxD1rDPwtNM8Q</td>\n",
       "      <td>Kurzgesagt – In a Nutshell</td>\n",
       "      <td>27</td>\n",
       "      <td>2020-08-17T00:00:00Z</td>\n",
       "      <td>Asteroid|asteroid mining|mining|mining in spac...</td>\n",
       "      <td>2220085</td>\n",
       "      <td>202171</td>\n",
       "      <td>1319</td>\n",
       "      <td>19510</td>\n",
       "      <td>https://i.ytimg.com/vi/y8XvQNt26KI/default.jpg</td>\n",
       "      <td>False</td>\n",
       "      <td>False</td>\n",
       "      <td>The first 1000 people to use this link will ge...</td>\n",
       "    </tr>\n",
       "    <tr>\n",
       "      <th>1017</th>\n",
       "      <td>UYEyhB0AGlw</td>\n",
       "      <td>Crawling Down A Torpedo Tube -US NAVY Nuclear ...</td>\n",
       "      <td>2020-08-16T13:00:41Z</td>\n",
       "      <td>UC6107grRI4m0o2-emgoDnAA</td>\n",
       "      <td>SmarterEveryDay</td>\n",
       "      <td>28</td>\n",
       "      <td>2020-08-17T00:00:00Z</td>\n",
       "      <td>Smarter|Every|Day|Science|Physics|Destin|Sandl...</td>\n",
       "      <td>973510</td>\n",
       "      <td>61272</td>\n",
       "      <td>568</td>\n",
       "      <td>4293</td>\n",
       "      <td>https://i.ytimg.com/vi/UYEyhB0AGlw/default.jpg</td>\n",
       "      <td>False</td>\n",
       "      <td>False</td>\n",
       "      <td>Go to https://buyraycon.com/smarter for 15% of...</td>\n",
       "    </tr>\n",
       "  </tbody>\n",
       "</table>\n",
       "</div>"
      ],
      "text/plain": [
       "         video_id                                              title  \\\n",
       "169   vrYcnMWWOeI  Odd1sOut VS Alex Clark: Planning Chess Boxing ...   \n",
       "199   gpY9qUbPXbM            Inside Beirut After the Explosion | WSJ   \n",
       "397   vrYcnMWWOeI  Odd1sOut VS Alex Clark: Planning Chess Boxing ...   \n",
       "1010  y8XvQNt26KI   Unlimited Resources From Space – Asteroid Mining   \n",
       "1017  UYEyhB0AGlw  Crawling Down A Torpedo Tube -US NAVY Nuclear ...   \n",
       "\n",
       "               publishedAt                 channelId  \\\n",
       "169   2020-08-07T16:06:34Z  UCsDmESjqNPukDmVnuneLrqw   \n",
       "199   2020-08-06T15:44:24Z  UCK7tptUDHh-RYDsdxO1-5QQ   \n",
       "397   2020-08-07T16:06:34Z  UCsDmESjqNPukDmVnuneLrqw   \n",
       "1010  2020-08-16T12:29:23Z  UCsXVk37bltHxD1rDPwtNM8Q   \n",
       "1017  2020-08-16T13:00:41Z  UC6107grRI4m0o2-emgoDnAA   \n",
       "\n",
       "                    channelTitle  categoryId         trending_date  \\\n",
       "169              It's Alex Clark           1  2020-08-12T00:00:00Z   \n",
       "199          Wall Street Journal          25  2020-08-12T00:00:00Z   \n",
       "397              It's Alex Clark           1  2020-08-13T00:00:00Z   \n",
       "1010  Kurzgesagt – In a Nutshell          27  2020-08-17T00:00:00Z   \n",
       "1017             SmarterEveryDay          28  2020-08-17T00:00:00Z   \n",
       "\n",
       "                                                   tags  view_count   likes  \\\n",
       "169   its alex clark|itsalexclark|alex clark|itsalex...      320855   18889   \n",
       "199   LEBANON|BEIRUT|EXPLOSION|HOMELESS|DISPLACED|RU...      587957    6949   \n",
       "397   its alex clark|itsalexclark|alex clark|itsalex...      334663   19493   \n",
       "1010  Asteroid|asteroid mining|mining|mining in spac...     2220085  202171   \n",
       "1017  Smarter|Every|Day|Science|Physics|Destin|Sandl...      973510   61272   \n",
       "\n",
       "      dislikes  comment_count                                  thumbnail_link  \\\n",
       "169        180           1306  https://i.ytimg.com/vi/vrYcnMWWOeI/default.jpg   \n",
       "199        314           1426  https://i.ytimg.com/vi/gpY9qUbPXbM/default.jpg   \n",
       "397        189           1332  https://i.ytimg.com/vi/vrYcnMWWOeI/default.jpg   \n",
       "1010      1319          19510  https://i.ytimg.com/vi/y8XvQNt26KI/default.jpg   \n",
       "1017       568           4293  https://i.ytimg.com/vi/UYEyhB0AGlw/default.jpg   \n",
       "\n",
       "      comments_disabled  ratings_disabled  \\\n",
       "169               False             False   \n",
       "199               False             False   \n",
       "397               False             False   \n",
       "1010              False             False   \n",
       "1017              False             False   \n",
       "\n",
       "                                            description  \n",
       "169   I was totally floored with how much went into ...  \n",
       "199   Note: Additional footage also provided by: Kar...  \n",
       "397   I was totally floored with how much went into ...  \n",
       "1010  The first 1000 people to use this link will ge...  \n",
       "1017  Go to https://buyraycon.com/smarter for 15% of...  "
      ]
     },
     "execution_count": 26,
     "metadata": {},
     "output_type": "execute_result"
    }
   ],
   "source": [
    "category_data1.head()"
   ]
  },
  {
   "cell_type": "code",
   "execution_count": 27,
   "metadata": {},
   "outputs": [
    {
     "name": "stdout",
     "output_type": "stream",
     "text": [
      "Dataset 1 (df2) category counts:\n",
      "Chess videos: 63\n",
      "Coding videos: 331\n",
      "Math videos: 274\n",
      "\n",
      "Dataset 2 (df) category counts:\n",
      "Chess videos: 331\n",
      "Coding videos: 707\n",
      "Math videos: 1236\n"
     ]
    }
   ],
   "source": [
    "# Create separate dataframes for each category\n",
    "chess_data = df2[df2['tags'].str.contains('chess', case=False, na=False)]\n",
    "coding_data = df2[df2['tags'].str.contains('coding|webdevelopment|computer science|computer', case=False, na=False)]\n",
    "math_data = df2[df2['tags'].str.contains('math', case=False, na=False)]\n",
    "\n",
    "# Same for the second dataset (df)\n",
    "chess_data1 = df[df['tags'].str.contains('chess', case=False, na=False)]\n",
    "coding_data1 = df[df['tags'].str.contains('coding|webdevelopment|computer science|computer', case=False, na=False)]\n",
    "math_data1 = df[df['tags'].str.contains('math', case=False, na=False)]\n",
    "\n",
    "# Display results\n",
    "print(\"Dataset 1 (df2) category counts:\")\n",
    "print(f\"Chess videos: {len(chess_data)}\")\n",
    "print(f\"Coding videos: {len(coding_data)}\")\n",
    "print(f\"Math videos: {len(math_data)}\")\n",
    "\n",
    "print(\"\\nDataset 2 (df) category counts:\")\n",
    "print(f\"Chess videos: {len(chess_data1)}\")\n",
    "print(f\"Coding videos: {len(coding_data1)}\")\n",
    "print(f\"Math videos: {len(math_data1)}\")\n"
   ]
  },
  {
   "cell_type": "code",
   "execution_count": 28,
   "metadata": {},
   "outputs": [
    {
     "name": "stderr",
     "output_type": "stream",
     "text": [
      "/tmp/ipykernel_43984/1631689899.py:2: SettingWithCopyWarning: \n",
      "A value is trying to be set on a copy of a slice from a DataFrame.\n",
      "Try using .loc[row_indexer,col_indexer] = value instead\n",
      "\n",
      "See the caveats in the documentation: https://pandas.pydata.org/pandas-docs/stable/user_guide/indexing.html#returning-a-view-versus-a-copy\n",
      "  chess_data['source'] = 'df2'\n",
      "/tmp/ipykernel_43984/1631689899.py:3: SettingWithCopyWarning: \n",
      "A value is trying to be set on a copy of a slice from a DataFrame.\n",
      "Try using .loc[row_indexer,col_indexer] = value instead\n",
      "\n",
      "See the caveats in the documentation: https://pandas.pydata.org/pandas-docs/stable/user_guide/indexing.html#returning-a-view-versus-a-copy\n",
      "  coding_data['source'] = 'df2'\n",
      "/tmp/ipykernel_43984/1631689899.py:4: SettingWithCopyWarning: \n",
      "A value is trying to be set on a copy of a slice from a DataFrame.\n",
      "Try using .loc[row_indexer,col_indexer] = value instead\n",
      "\n",
      "See the caveats in the documentation: https://pandas.pydata.org/pandas-docs/stable/user_guide/indexing.html#returning-a-view-versus-a-copy\n",
      "  math_data['source'] = 'df2'\n",
      "/tmp/ipykernel_43984/1631689899.py:5: SettingWithCopyWarning: \n",
      "A value is trying to be set on a copy of a slice from a DataFrame.\n",
      "Try using .loc[row_indexer,col_indexer] = value instead\n",
      "\n",
      "See the caveats in the documentation: https://pandas.pydata.org/pandas-docs/stable/user_guide/indexing.html#returning-a-view-versus-a-copy\n",
      "  chess_data1['source'] = 'df'\n",
      "/tmp/ipykernel_43984/1631689899.py:6: SettingWithCopyWarning: \n",
      "A value is trying to be set on a copy of a slice from a DataFrame.\n",
      "Try using .loc[row_indexer,col_indexer] = value instead\n",
      "\n",
      "See the caveats in the documentation: https://pandas.pydata.org/pandas-docs/stable/user_guide/indexing.html#returning-a-view-versus-a-copy\n",
      "  coding_data1['source'] = 'df'\n",
      "/tmp/ipykernel_43984/1631689899.py:7: SettingWithCopyWarning: \n",
      "A value is trying to be set on a copy of a slice from a DataFrame.\n",
      "Try using .loc[row_indexer,col_indexer] = value instead\n",
      "\n",
      "See the caveats in the documentation: https://pandas.pydata.org/pandas-docs/stable/user_guide/indexing.html#returning-a-view-versus-a-copy\n",
      "  math_data1['source'] = 'df'\n",
      "/tmp/ipykernel_43984/1631689899.py:10: SettingWithCopyWarning: \n",
      "A value is trying to be set on a copy of a slice from a DataFrame.\n",
      "Try using .loc[row_indexer,col_indexer] = value instead\n",
      "\n",
      "See the caveats in the documentation: https://pandas.pydata.org/pandas-docs/stable/user_guide/indexing.html#returning-a-view-versus-a-copy\n",
      "  chess_data['category'] = 'chess'\n",
      "/tmp/ipykernel_43984/1631689899.py:11: SettingWithCopyWarning: \n",
      "A value is trying to be set on a copy of a slice from a DataFrame.\n",
      "Try using .loc[row_indexer,col_indexer] = value instead\n",
      "\n",
      "See the caveats in the documentation: https://pandas.pydata.org/pandas-docs/stable/user_guide/indexing.html#returning-a-view-versus-a-copy\n",
      "  coding_data['category'] = 'coding'\n",
      "/tmp/ipykernel_43984/1631689899.py:12: SettingWithCopyWarning: \n",
      "A value is trying to be set on a copy of a slice from a DataFrame.\n",
      "Try using .loc[row_indexer,col_indexer] = value instead\n",
      "\n",
      "See the caveats in the documentation: https://pandas.pydata.org/pandas-docs/stable/user_guide/indexing.html#returning-a-view-versus-a-copy\n",
      "  math_data['category'] = 'math'\n",
      "/tmp/ipykernel_43984/1631689899.py:13: SettingWithCopyWarning: \n",
      "A value is trying to be set on a copy of a slice from a DataFrame.\n",
      "Try using .loc[row_indexer,col_indexer] = value instead\n",
      "\n",
      "See the caveats in the documentation: https://pandas.pydata.org/pandas-docs/stable/user_guide/indexing.html#returning-a-view-versus-a-copy\n",
      "  chess_data1['category'] = 'chess'\n",
      "/tmp/ipykernel_43984/1631689899.py:14: SettingWithCopyWarning: \n",
      "A value is trying to be set on a copy of a slice from a DataFrame.\n",
      "Try using .loc[row_indexer,col_indexer] = value instead\n",
      "\n",
      "See the caveats in the documentation: https://pandas.pydata.org/pandas-docs/stable/user_guide/indexing.html#returning-a-view-versus-a-copy\n",
      "  coding_data1['category'] = 'coding'\n",
      "/tmp/ipykernel_43984/1631689899.py:15: SettingWithCopyWarning: \n",
      "A value is trying to be set on a copy of a slice from a DataFrame.\n",
      "Try using .loc[row_indexer,col_indexer] = value instead\n",
      "\n",
      "See the caveats in the documentation: https://pandas.pydata.org/pandas-docs/stable/user_guide/indexing.html#returning-a-view-versus-a-copy\n",
      "  math_data1['category'] = 'math'\n"
     ]
    },
    {
     "data": {
      "text/html": [
       "<div>\n",
       "<style scoped>\n",
       "    .dataframe tbody tr th:only-of-type {\n",
       "        vertical-align: middle;\n",
       "    }\n",
       "\n",
       "    .dataframe tbody tr th {\n",
       "        vertical-align: top;\n",
       "    }\n",
       "\n",
       "    .dataframe thead th {\n",
       "        text-align: right;\n",
       "    }\n",
       "</style>\n",
       "<table border=\"1\" class=\"dataframe\">\n",
       "  <thead>\n",
       "    <tr style=\"text-align: right;\">\n",
       "      <th></th>\n",
       "      <th>Title</th>\n",
       "      <th>category</th>\n",
       "    </tr>\n",
       "  </thead>\n",
       "  <tbody>\n",
       "    <tr>\n",
       "      <th>0</th>\n",
       "      <td>!@#$%$#!! || Dubov vs Carlsen || Airthings Mas...</td>\n",
       "      <td>chess</td>\n",
       "    </tr>\n",
       "    <tr>\n",
       "      <th>9</th>\n",
       "      <td>\"\"Math Whiz!\" Addition Song  /// Danny Go! Kid...</td>\n",
       "      <td>math</td>\n",
       "    </tr>\n",
       "    <tr>\n",
       "      <th>11</th>\n",
       "      <td>\"#01 Introduction to Java Programming Tutorial...</td>\n",
       "      <td>coding</td>\n",
       "    </tr>\n",
       "    <tr>\n",
       "      <th>12</th>\n",
       "      <td>\"#05 🔴 RAILWAY 2024 || BEST 51 QUESTIONS by Ad...</td>\n",
       "      <td>math</td>\n",
       "    </tr>\n",
       "    <tr>\n",
       "      <th>13</th>\n",
       "      <td>\"#15 Compound Interest (चक्रवृद्धि ब्याज) | Co...</td>\n",
       "      <td>math</td>\n",
       "    </tr>\n",
       "  </tbody>\n",
       "</table>\n",
       "</div>"
      ],
      "text/plain": [
       "                                                Title category\n",
       "0   !@#$%$#!! || Dubov vs Carlsen || Airthings Mas...    chess\n",
       "9   \"\"Math Whiz!\" Addition Song  /// Danny Go! Kid...     math\n",
       "11  \"#01 Introduction to Java Programming Tutorial...   coding\n",
       "12  \"#05 🔴 RAILWAY 2024 || BEST 51 QUESTIONS by Ad...     math\n",
       "13  \"#15 Compound Interest (चक्रवृद्धि ब्याज) | Co...     math"
      ]
     },
     "execution_count": 28,
     "metadata": {},
     "output_type": "execute_result"
    }
   ],
   "source": [
    "# First, add a 'source' column to distinguish between df and df2\n",
    "chess_data['source'] = 'df2'\n",
    "coding_data['source'] = 'df2'\n",
    "math_data['source'] = 'df2'\n",
    "chess_data1['source'] = 'df'\n",
    "coding_data1['source'] = 'df'\n",
    "math_data1['source'] = 'df'\n",
    "\n",
    "# Add category labels\n",
    "chess_data['category'] = 'chess'\n",
    "coding_data['category'] = 'coding'\n",
    "math_data['category'] = 'math'\n",
    "chess_data1['category'] = 'chess'\n",
    "coding_data1['category'] = 'coding'\n",
    "math_data1['category'] = 'math'\n",
    "\n",
    "# Combine all category dataframes\n",
    "all_categories = pd.concat([\n",
    "    chess_data, coding_data, math_data,\n",
    "    chess_data1, coding_data1, math_data1\n",
    "], ignore_index=True)\n",
    "\n",
    "# Merge with df_categories based on title and keyword\n",
    "# First, ensure title columns match\n",
    "all_categories = all_categories.rename(columns={'title': 'Title'})\n",
    "df_categories = df_categories.rename(columns={'Keyword': 'category'})\n",
    "\n",
    "# Merge the dataframes\n",
    "final_categorized_df = pd.merge(\n",
    "    all_categories,\n",
    "    df_categories[['Title', 'category']],\n",
    "    on=['Title', 'category'],\n",
    "    how='outer'\n",
    ")\n",
    "\n",
    "# Remove duplicates\n",
    "final_categorized_df = final_categorized_df.drop_duplicates(subset=['Title', 'category'])\n",
    "\n",
    "# Keep only 'Title' and 'category' columns\n",
    "final_categorized_df = final_categorized_df[['Title', 'category']]\n",
    "final_categorized_df.head()"
   ]
  },
  {
   "cell_type": "code",
   "execution_count": 29,
   "metadata": {},
   "outputs": [
    {
     "data": {
      "text/plain": [
       "0                   WE WANT TO TALK ABOUT OUR MARRIAGE\n",
       "1    The Trump Presidency: Last Week Tonight with J...\n",
       "2    Racist Superman | Rudy Mancuso, King Bach & Le...\n",
       "3                     Nickelback Lyrics: Real or Fake?\n",
       "4                             I Dare You: GOING BALD!?\n",
       "Name: title, dtype: object"
      ]
     },
     "execution_count": 29,
     "metadata": {},
     "output_type": "execute_result"
    }
   ],
   "source": [
    "filtered_df_main['keyword'] = 'other'\n",
    "\n",
    "filtered_df_main.head()"
   ]
  },
  {
   "cell_type": "code",
   "execution_count": 30,
   "metadata": {},
   "outputs": [
    {
     "data": {
      "text/html": [
       "<div>\n",
       "<style scoped>\n",
       "    .dataframe tbody tr th:only-of-type {\n",
       "        vertical-align: middle;\n",
       "    }\n",
       "\n",
       "    .dataframe tbody tr th {\n",
       "        vertical-align: top;\n",
       "    }\n",
       "\n",
       "    .dataframe thead th {\n",
       "        text-align: right;\n",
       "    }\n",
       "</style>\n",
       "<table border=\"1\" class=\"dataframe\">\n",
       "  <thead>\n",
       "    <tr style=\"text-align: right;\">\n",
       "      <th></th>\n",
       "      <th>Title</th>\n",
       "      <th>category</th>\n",
       "    </tr>\n",
       "  </thead>\n",
       "  <tbody>\n",
       "    <tr>\n",
       "      <th>0</th>\n",
       "      <td>WE WANT TO TALK ABOUT OUR MARRIAGE</td>\n",
       "      <td>other</td>\n",
       "    </tr>\n",
       "    <tr>\n",
       "      <th>1</th>\n",
       "      <td>The Trump Presidency: Last Week Tonight with J...</td>\n",
       "      <td>other</td>\n",
       "    </tr>\n",
       "    <tr>\n",
       "      <th>2</th>\n",
       "      <td>Racist Superman | Rudy Mancuso, King Bach &amp; Le...</td>\n",
       "      <td>other</td>\n",
       "    </tr>\n",
       "    <tr>\n",
       "      <th>3</th>\n",
       "      <td>Nickelback Lyrics: Real or Fake?</td>\n",
       "      <td>other</td>\n",
       "    </tr>\n",
       "    <tr>\n",
       "      <th>4</th>\n",
       "      <td>I Dare You: GOING BALD!?</td>\n",
       "      <td>other</td>\n",
       "    </tr>\n",
       "  </tbody>\n",
       "</table>\n",
       "</div>"
      ],
      "text/plain": [
       "                                               Title category\n",
       "0                 WE WANT TO TALK ABOUT OUR MARRIAGE    other\n",
       "1  The Trump Presidency: Last Week Tonight with J...    other\n",
       "2  Racist Superman | Rudy Mancuso, King Bach & Le...    other\n",
       "3                   Nickelback Lyrics: Real or Fake?    other\n",
       "4                           I Dare You: GOING BALD!?    other"
      ]
     },
     "execution_count": 30,
     "metadata": {},
     "output_type": "execute_result"
    }
   ],
   "source": [
    "other_df = pd.DataFrame({\n",
    "    'Title' : filtered_df_main ,\n",
    "    'category' : 'other'\n",
    "})\n",
    "\n",
    "other_df.head()"
   ]
  },
  {
   "cell_type": "code",
   "execution_count": 31,
   "metadata": {},
   "outputs": [],
   "source": [
    "\n",
    "# Calculate the number of samples to keep (1/1000th of the 'other' category)\n",
    "num_samples_to_keep = max(1, len(other_df) // 200)\n",
    "\n",
    "# Randomly sample the required number of rows from the 'other' category\n",
    "other_df_sampled = other_df.sample(n=num_samples_to_keep, random_state=1)\n",
    "\n",
    "# Replace the original 'other' category dataframe with the sampled one\n",
    "other_df = other_df_sampled\n"
   ]
  },
  {
   "cell_type": "code",
   "execution_count": 32,
   "metadata": {},
   "outputs": [
    {
     "name": "stdout",
     "output_type": "stream",
     "text": [
      "Final dataset info:\n",
      "<class 'pandas.core.frame.DataFrame'>\n",
      "Index: 2919 entries, 0 to 2944\n",
      "Data columns (total 2 columns):\n",
      " #   Column    Non-Null Count  Dtype \n",
      "---  ------    --------------  ----- \n",
      " 0   Title     2919 non-null   object\n",
      " 1   category  2919 non-null   object\n",
      "dtypes: object(2)\n",
      "memory usage: 68.4+ KB\n",
      "None\n",
      "\n",
      "First few rows:\n",
      "                                               Title category\n",
      "0  !@#$%$#!! || Dubov vs Carlsen || Airthings Mas...    chess\n",
      "1  \"\"Math Whiz!\" Addition Song  /// Danny Go! Kid...     math\n",
      "2  \"#01 Introduction to Java Programming Tutorial...   coding\n",
      "3  \"#05 🔴 RAILWAY 2024 || BEST 51 QUESTIONS by Ad...     math\n",
      "4  \"#15 Compound Interest (चक्रवृद्धि ब्याज) | Co...     math\n"
     ]
    }
   ],
   "source": [
    "df_final =  pd.concat([final_categorized_df , other_df] , ignore_index = True)\n",
    "df_final = df_final.drop_duplicates(subset=['Title'])\n",
    "print(\"Final dataset info:\")\n",
    "print(df_final.info())\n",
    "print(\"\\nFirst few rows:\")\n",
    "print(df_final.head())"
   ]
  },
  {
   "cell_type": "code",
   "execution_count": 33,
   "metadata": {},
   "outputs": [
    {
     "data": {
      "image/png": "[encoded data removed]",
      "text/plain": [
       "<Figure size 1000x600 with 1 Axes>"
      ]
     },
     "metadata": {},
     "output_type": "display_data"
    }
   ],
   "source": [
    "\n",
    "category_counts = df_final['category'].value_counts()\n",
    "\n",
    "plt.figure(figsize=(10, 6))\n",
    "category_counts.plot(kind='bar')\n",
    "plt.title('Category Frequencies')\n",
    "plt.xlabel('Category')\n",
    "plt.ylabel('Frequency')\n",
    "plt.xticks(rotation=45)\n",
    "plt.show()"
   ]
  },
  {
   "cell_type": "code",
   "execution_count": 35,
   "metadata": {},
   "outputs": [
    {
     "name": "stderr",
     "output_type": "stream",
     "text": [
      "Some weights of BertForSequenceClassification were not initialized from the model checkpoint at google-bert/bert-base-uncased and are newly initialized: ['classifier.bias', 'classifier.weight']\n",
      "You should probably TRAIN this model on a down-stream task to be able to use it for predictions and inference.\n"
     ]
    }
   ],
   "source": [
    "model_path = \"google-bert/bert-base-uncased\"\n",
    "\n",
    "tokenizer = AutoTokenizer.from_pretrained(model_path)\n",
    "\n",
    "id2label = {0: \"other\", 1: \"chess\" , 2 : \"coding\"  , 3: \"math\"}\n",
    "label2id = {\"other\": 0, \"chess\": 1 , \"coding\" : 2 , \"math\" : 3}\n",
    "model = AutoModelForSequenceClassification.from_pretrained(model_path, \n",
    "                                                           num_labels=4, \n",
    "                                                           id2label=id2label, \n",
    "                                                           label2id=label2id,)"
   ]
  },
  {
   "cell_type": "code",
   "execution_count": 42,
   "metadata": {},
   "outputs": [],
   "source": [
    "#freeze all the base model params\n",
    "for name, param in model.named_parameters():\n",
    "   param.requires_grad = False\n",
    "\n",
    "\n",
    "#unfreeze base model pooling layers\n",
    "for name, param  in model.base_model.named_parameters():\n",
    "   if \"pooler\" in name or \"encoder.layer.10\" in name or \"encoder.layer.11\" in name:\n",
    "      param.requires_grad = True\n",
    "\n"
   ]
  },
  {
   "cell_type": "code",
   "execution_count": 43,
   "metadata": {},
   "outputs": [
    {
     "data": {
      "application/vnd.jupyter.widget-view+json": {
       "model_id": "fe2d56115f7e47c39276267b8673380b",
       "version_major": 2,
       "version_minor": 0
      },
      "text/plain": [
       "Map:   0%|          | 0/2335 [00:00<?, ? examples/s]"
      ]
     },
     "metadata": {},
     "output_type": "display_data"
    },
    {
     "data": {
      "application/vnd.jupyter.widget-view+json": {
       "model_id": "ba2bac6a61e24e20ad5991fb4f4d6134",
       "version_major": 2,
       "version_minor": 0
      },
      "text/plain": [
       "Map:   0%|          | 0/584 [00:00<?, ? examples/s]"
      ]
     },
     "metadata": {},
     "output_type": "display_data"
    }
   ],
   "source": [
    "\n",
    "\n",
    "# Convert category labels to numeric\n",
    "category_mapping = {'other': 0, 'chess': 1, 'coding': 2, 'math': 3}\n",
    "df_final['label'] = df_final['category'].map(category_mapping)\n",
    "\n",
    "# Create Dataset object\n",
    "dataset = Dataset.from_pandas(df_final)\n",
    "\n",
    "# Split into train/test sets\n",
    "dataset = dataset.train_test_split(test_size=0.2, seed=42)\n",
    "\n",
    "# Create tokenization function that handles batches\n",
    "def tokenize_function(examples):\n",
    "    return tokenizer(examples['Title'], truncation=True, padding=True)  # Changed 'text' to 'Title'\n",
    "\n",
    "# Apply tokenization\n",
    "tokenized_dataset = dataset.map(tokenize_function, batched=True)"
   ]
  },
  {
   "cell_type": "code",
   "execution_count": 44,
   "metadata": {},
   "outputs": [],
   "source": [
    "# load metrics\n",
    "accuracy = evaluate.load(\"accuracy\")\n",
    "auc_score = evaluate.load(\"roc_auc\")\n",
    "\n",
    "def compute_metrics(eval_pred):\n",
    "    predictions, labels = eval_pred\n",
    "    \n",
    "    # Apply softmax to get probabilities\n",
    "    probabilities = np.exp(predictions) / np.exp(predictions).sum(-1, keepdims=True)\n",
    "    \n",
    "    # Compute ROC AUC using one-vs-rest approach\n",
    "    auc_scores = []\n",
    "    for i in range(4):  # For each class\n",
    "        # Get binary labels (current class vs rest)\n",
    "        binary_labels = (labels == i).astype(int)\n",
    "        # Get probabilities for current class\n",
    "        class_probs = probabilities[:, i]\n",
    "        try:\n",
    "            auc = auc_score.compute(prediction_scores=class_probs, references=binary_labels)['roc_auc']\n",
    "            auc_scores.append(auc)\n",
    "        except:\n",
    "            # Handle cases where a class might not have both positive and negative samples\n",
    "            auc_scores.append(0.0)\n",
    "    \n",
    "    # Calculate mean AUC across all classes\n",
    "    mean_auc = np.round(np.mean(auc_scores), 3)\n",
    "    \n",
    "    # Calculate accuracy\n",
    "    predicted_classes = np.argmax(predictions, axis=1)\n",
    "    acc = np.round(accuracy.compute(predictions=predicted_classes, references=labels)['accuracy'], 3)\n",
    "    \n",
    "    return {\n",
    "        \"accuracy\": acc,\n",
    "        \"mean_roc_auc\": mean_auc,\n",
    "        \"roc_auc_per_class\": {\n",
    "            \"other\": auc_scores[0],\n",
    "            \"chess\": auc_scores[1],\n",
    "            \"coding\": auc_scores[2],\n",
    "            \"math\": auc_scores[3]\n",
    "        }\n",
    "    }"
   ]
  },
  {
   "cell_type": "code",
   "execution_count": 46,
   "metadata": {},
   "outputs": [
    {
     "name": "stdout",
     "output_type": "stream",
     "text": [
      "1.2.1\n"
     ]
    },
    {
     "name": "stderr",
     "output_type": "stream",
     "text": [
      "/home/iiitd/oreki/detoxify_yt/virtual/lib/python3.12/site-packages/transformers/training_args.py:1575: FutureWarning: `evaluation_strategy` is deprecated and will be removed in version 4.46 of 🤗 Transformers. Use `eval_strategy` instead\n",
      "  warnings.warn(\n",
      "/tmp/ipykernel_43984/1461785931.py:27: FutureWarning: `tokenizer` is deprecated and will be removed in version 5.0.0 for `Trainer.__init__`. Use `processing_class` instead.\n",
      "  trainer = Trainer(\n"
     ]
    },
    {
     "data": {
      "application/vnd.jupyter.widget-view+json": {
       "model_id": "22b5aa4b8c3946aca71ad42fdc62292a",
       "version_major": 2,
       "version_minor": 0
      },
      "text/plain": [
       "  0%|          | 0/1460 [00:00<?, ?it/s]"
      ]
     },
     "metadata": {},
     "output_type": "display_data"
    },
    {
     "name": "stdout",
     "output_type": "stream",
     "text": [
      "{'loss': 0.2789, 'grad_norm': 2.226588487625122, 'learning_rate': 2e-05, 'epoch': 1.0}\n"
     ]
    },
    {
     "data": {
      "application/vnd.jupyter.widget-view+json": {
       "model_id": "6200fb8a15df40369f408caae3f1867a",
       "version_major": 2,
       "version_minor": 0
      },
      "text/plain": [
       "  0%|          | 0/37 [00:00<?, ?it/s]"
      ]
     },
     "metadata": {},
     "output_type": "display_data"
    },
    {
     "name": "stdout",
     "output_type": "stream",
     "text": [
      "{'eval_loss': 0.41055795550346375, 'eval_accuracy': 0.861, 'eval_mean_roc_auc': 0.951, 'eval_roc_auc_per_class': {'other': 0.9296301524562394, 'chess': 0.9708804814594238, 'coding': 0.9679888656924148, 'math': 0.937149980820867}, 'eval_runtime': 11.7957, 'eval_samples_per_second': 49.51, 'eval_steps_per_second': 3.137, 'epoch': 1.0}\n",
      "{'loss': 0.2392, 'grad_norm': 0.6316988468170166, 'learning_rate': 1.7777777777777777e-05, 'epoch': 2.0}\n"
     ]
    },
    {
     "data": {
      "application/vnd.jupyter.widget-view+json": {
       "model_id": "913615095d90450c93ca5cec44b7fd43",
       "version_major": 2,
       "version_minor": 0
      },
      "text/plain": [
       "  0%|          | 0/37 [00:00<?, ?it/s]"
      ]
     },
     "metadata": {},
     "output_type": "display_data"
    },
    {
     "name": "stdout",
     "output_type": "stream",
     "text": [
      "{'eval_loss': 0.4171137511730194, 'eval_accuracy': 0.865, 'eval_mean_roc_auc': 0.954, 'eval_roc_auc_per_class': {'other': 0.932712215320911, 'chess': 0.9731059774942795, 'coding': 0.9702753752858138, 'math': 0.9388185654008439}, 'eval_runtime': 12.0176, 'eval_samples_per_second': 48.596, 'eval_steps_per_second': 3.079, 'epoch': 2.0}\n",
      "{'loss': 0.2041, 'grad_norm': 1.833361268043518, 'learning_rate': 1.555555555555556e-05, 'epoch': 3.0}\n"
     ]
    },
    {
     "data": {
      "application/vnd.jupyter.widget-view+json": {
       "model_id": "72f06d9b6d8a48d78a1ab7c91d1fdbce",
       "version_major": 2,
       "version_minor": 0
      },
      "text/plain": [
       "  0%|          | 0/37 [00:00<?, ?it/s]"
      ]
     },
     "metadata": {},
     "output_type": "display_data"
    },
    {
     "name": "stdout",
     "output_type": "stream",
     "text": [
      "{'eval_loss': 0.4319022297859192, 'eval_accuracy': 0.866, 'eval_mean_roc_auc': 0.954, 'eval_roc_auc_per_class': {'other': 0.9316887822322606, 'chess': 0.9723536971444692, 'coding': 0.9711700964310568, 'math': 0.9390487149980821}, 'eval_runtime': 11.7534, 'eval_samples_per_second': 49.688, 'eval_steps_per_second': 3.148, 'epoch': 3.0}\n",
      "{'loss': 0.1862, 'grad_norm': 0.7962602972984314, 'learning_rate': 1.3333333333333333e-05, 'epoch': 4.0}\n"
     ]
    },
    {
     "data": {
      "application/vnd.jupyter.widget-view+json": {
       "model_id": "25876d75abec42368380466e74d77c9e",
       "version_major": 2,
       "version_minor": 0
      },
      "text/plain": [
       "  0%|          | 0/37 [00:00<?, ?it/s]"
      ]
     },
     "metadata": {},
     "output_type": "display_data"
    },
    {
     "name": "stdout",
     "output_type": "stream",
     "text": [
      "{'eval_loss': 0.4248743951320648, 'eval_accuracy': 0.863, 'eval_mean_roc_auc': 0.957, 'eval_roc_auc_per_class': {'other': 0.9398880105401844, 'chess': 0.9707237563865467, 'coding': 0.973118600258475, 'math': 0.9457805907172996}, 'eval_runtime': 11.6782, 'eval_samples_per_second': 50.008, 'eval_steps_per_second': 3.168, 'epoch': 4.0}\n",
      "{'loss': 0.1736, 'grad_norm': 3.1624836921691895, 'learning_rate': 1.1111111111111113e-05, 'epoch': 5.0}\n"
     ]
    },
    {
     "data": {
      "application/vnd.jupyter.widget-view+json": {
       "model_id": "e447c2ed23234251a55be129f69cd958",
       "version_major": 2,
       "version_minor": 0
      },
      "text/plain": [
       "  0%|          | 0/37 [00:00<?, ?it/s]"
      ]
     },
     "metadata": {},
     "output_type": "display_data"
    },
    {
     "name": "stdout",
     "output_type": "stream",
     "text": [
      "{'eval_loss': 0.4149200916290283, 'eval_accuracy': 0.872, 'eval_mean_roc_auc': 0.958, 'eval_roc_auc_per_class': {'other': 0.9406526444569924, 'chess': 0.9733880826254584, 'coding': 0.9718659906551347, 'math': 0.9478711162255467}, 'eval_runtime': 11.8735, 'eval_samples_per_second': 49.185, 'eval_steps_per_second': 3.116, 'epoch': 5.0}\n",
      "{'loss': 0.1447, 'grad_norm': 2.381532907485962, 'learning_rate': 8.888888888888888e-06, 'epoch': 6.0}\n"
     ]
    },
    {
     "data": {
      "application/vnd.jupyter.widget-view+json": {
       "model_id": "012b11d297de4b28ab303e3764bac686",
       "version_major": 2,
       "version_minor": 0
      },
      "text/plain": [
       "  0%|          | 0/37 [00:00<?, ?it/s]"
      ]
     },
     "metadata": {},
     "output_type": "display_data"
    },
    {
     "name": "stdout",
     "output_type": "stream",
     "text": [
      "{'eval_loss': 0.4306883215904236, 'eval_accuracy': 0.866, 'eval_mean_roc_auc': 0.959, 'eval_roc_auc_per_class': {'other': 0.9417231319405232, 'chess': 0.9732940475817321, 'coding': 0.9738343771746695, 'math': 0.9473149213655543}, 'eval_runtime': 11.6961, 'eval_samples_per_second': 49.931, 'eval_steps_per_second': 3.163, 'epoch': 6.0}\n",
      "{'loss': 0.1298, 'grad_norm': 1.8414421081542969, 'learning_rate': 6.666666666666667e-06, 'epoch': 7.0}\n"
     ]
    },
    {
     "data": {
      "application/vnd.jupyter.widget-view+json": {
       "model_id": "77071d0d5f9445f48838c9b126bf8492",
       "version_major": 2,
       "version_minor": 0
      },
      "text/plain": [
       "  0%|          | 0/37 [00:00<?, ?it/s]"
      ]
     },
     "metadata": {},
     "output_type": "display_data"
    },
    {
     "name": "stdout",
     "output_type": "stream",
     "text": [
      "{'eval_loss': 0.4376494586467743, 'eval_accuracy': 0.866, 'eval_mean_roc_auc': 0.959, 'eval_roc_auc_per_class': {'other': 0.9418878223226049, 'chess': 0.9738269128295145, 'coding': 0.9719256387314843, 'math': 0.9489451476793249}, 'eval_runtime': 11.7338, 'eval_samples_per_second': 49.771, 'eval_steps_per_second': 3.153, 'epoch': 7.0}\n",
      "{'loss': 0.1112, 'grad_norm': 4.108028411865234, 'learning_rate': 4.444444444444444e-06, 'epoch': 8.0}\n"
     ]
    },
    {
     "data": {
      "application/vnd.jupyter.widget-view+json": {
       "model_id": "fa7d432b96c94547b8ff7d101c85b9ae",
       "version_major": 2,
       "version_minor": 0
      },
      "text/plain": [
       "  0%|          | 0/37 [00:00<?, ?it/s]"
      ]
     },
     "metadata": {},
     "output_type": "display_data"
    },
    {
     "name": "stdout",
     "output_type": "stream",
     "text": [
      "{'eval_loss': 0.4477379620075226, 'eval_accuracy': 0.873, 'eval_mean_roc_auc': 0.959, 'eval_roc_auc_per_class': {'other': 0.9407232260493129, 'chess': 0.97495533335423, 'coding': 0.9711104483547072, 'math': 0.9479670118910626}, 'eval_runtime': 11.7857, 'eval_samples_per_second': 49.551, 'eval_steps_per_second': 3.139, 'epoch': 8.0}\n",
      "{'loss': 0.1078, 'grad_norm': 4.731178283691406, 'learning_rate': 2.222222222222222e-06, 'epoch': 9.0}\n"
     ]
    },
    {
     "data": {
      "application/vnd.jupyter.widget-view+json": {
       "model_id": "0e7446f858174cb4919093d227bfb889",
       "version_major": 2,
       "version_minor": 0
      },
      "text/plain": [
       "  0%|          | 0/37 [00:00<?, ?it/s]"
      ]
     },
     "metadata": {},
     "output_type": "display_data"
    },
    {
     "name": "stdout",
     "output_type": "stream",
     "text": [
      "{'eval_loss': 0.45067131519317627, 'eval_accuracy': 0.877, 'eval_mean_roc_auc': 0.959, 'eval_roc_auc_per_class': {'other': 0.9414290419725202, 'chess': 0.9756135786603142, 'coding': 0.9710706829704742, 'math': 0.9483505945531262}, 'eval_runtime': 11.767, 'eval_samples_per_second': 49.63, 'eval_steps_per_second': 3.144, 'epoch': 9.0}\n",
      "{'loss': 0.1047, 'grad_norm': 5.823518753051758, 'learning_rate': 0.0, 'epoch': 10.0}\n"
     ]
    },
    {
     "data": {
      "application/vnd.jupyter.widget-view+json": {
       "model_id": "c5a7b5c7a02544379c0676ba32776a36",
       "version_major": 2,
       "version_minor": 0
      },
      "text/plain": [
       "  0%|          | 0/37 [00:00<?, ?it/s]"
      ]
     },
     "metadata": {},
     "output_type": "display_data"
    },
    {
     "name": "stdout",
     "output_type": "stream",
     "text": [
      "{'eval_loss': 0.4508744776248932, 'eval_accuracy': 0.878, 'eval_mean_roc_auc': 0.959, 'eval_roc_auc_per_class': {'other': 0.9416760775456429, 'chess': 0.9760524088643701, 'coding': 0.9710309175862413, 'math': 0.9490026850786344}, 'eval_runtime': 11.7179, 'eval_samples_per_second': 49.838, 'eval_steps_per_second': 3.158, 'epoch': 10.0}\n",
      "{'train_runtime': 774.8953, 'train_samples_per_second': 30.133, 'train_steps_per_second': 1.884, 'train_loss': 0.16802303105184477, 'epoch': 10.0}\n"
     ]
    },
    {
     "data": {
      "text/plain": [
       "TrainOutput(global_step=1460, training_loss=0.16802303105184477, metrics={'train_runtime': 774.8953, 'train_samples_per_second': 30.133, 'train_steps_per_second': 1.884, 'total_flos': 671973035260800.0, 'train_loss': 0.16802303105184477, 'epoch': 10.0})"
      ]
     },
     "execution_count": 46,
     "metadata": {},
     "output_type": "execute_result"
    }
   ],
   "source": [
    "\n",
    "# First, create the data collator\n",
    "data_collator = DataCollatorWithPadding(tokenizer=tokenizer)\n",
    "\n",
    "\n",
    "training_args = TrainingArguments(\n",
    "    output_dir=\"bert-yt_classifier\",\n",
    "    learning_rate=2e-5,  # Slightly higher learning rate\n",
    "    per_device_train_batch_size=16,\n",
    "    per_device_eval_batch_size=16,\n",
    "    num_train_epochs=10,  # Increase epochs\n",
    "    warmup_ratio=0.1,    # Add warmup\n",
    "    weight_decay=0.01,   # Add weight decay\n",
    "    logging_strategy=\"epoch\",\n",
    "    evaluation_strategy=\"epoch\",\n",
    "    save_strategy=\"epoch\",\n",
    "    load_best_model_at_end=True,\n",
    "    metric_for_best_model=\"accuracy\",  # Specify metric to track\n",
    "    greater_is_better=True,\n",
    "    push_to_hub=False,\n",
    ")\n",
    "\n",
    "# Create trainer with the correct dataset name (tokenized_dataset instead of tokenized_data)\n",
    "trainer = Trainer(\n",
    "    model=model,\n",
    "    args=training_args,\n",
    "    train_dataset=tokenized_dataset[\"train\"],  # Fixed dataset name\n",
    "    eval_dataset=tokenized_dataset[\"test\"],    # Fixed dataset name\n",
    "    tokenizer=tokenizer,\n",
    "    data_collator=data_collator,\n",
    "    compute_metrics=compute_metrics,\n",
    ")\n",
    "\n",
    "# Start training\n",
    "trainer.train()"
   ]
  },
  {
   "cell_type": "code",
   "execution_count": 4,
   "metadata": {},
   "outputs": [
    {
     "data": {
      "text/plain": [
       "BertForSequenceClassification(\n",
       "  (bert): BertModel(\n",
       "    (embeddings): BertEmbeddings(\n",
       "      (word_embeddings): Embedding(30522, 768, padding_idx=0)\n",
       "      (position_embeddings): Embedding(512, 768)\n",
       "      (token_type_embeddings): Embedding(2, 768)\n",
       "      (LayerNorm): LayerNorm((768,), eps=1e-12, elementwise_affine=True)\n",
       "      (dropout): Dropout(p=0.1, inplace=False)\n",
       "    )\n",
       "    (encoder): BertEncoder(\n",
       "      (layer): ModuleList(\n",
       "        (0-11): 12 x BertLayer(\n",
       "          (attention): BertAttention(\n",
       "            (self): BertSdpaSelfAttention(\n",
       "              (query): Linear(in_features=768, out_features=768, bias=True)\n",
       "              (key): Linear(in_features=768, out_features=768, bias=True)\n",
       "              (value): Linear(in_features=768, out_features=768, bias=True)\n",
       "              (dropout): Dropout(p=0.1, inplace=False)\n",
       "            )\n",
       "            (output): BertSelfOutput(\n",
       "              (dense): Linear(in_features=768, out_features=768, bias=True)\n",
       "              (LayerNorm): LayerNorm((768,), eps=1e-12, elementwise_affine=True)\n",
       "              (dropout): Dropout(p=0.1, inplace=False)\n",
       "            )\n",
       "          )\n",
       "          (intermediate): BertIntermediate(\n",
       "            (dense): Linear(in_features=768, out_features=3072, bias=True)\n",
       "            (intermediate_act_fn): GELUActivation()\n",
       "          )\n",
       "          (output): BertOutput(\n",
       "            (dense): Linear(in_features=3072, out_features=768, bias=True)\n",
       "            (LayerNorm): LayerNorm((768,), eps=1e-12, elementwise_affine=True)\n",
       "            (dropout): Dropout(p=0.1, inplace=False)\n",
       "          )\n",
       "        )\n",
       "      )\n",
       "    )\n",
       "    (pooler): BertPooler(\n",
       "      (dense): Linear(in_features=768, out_features=768, bias=True)\n",
       "      (activation): Tanh()\n",
       "    )\n",
       "  )\n",
       "  (dropout): Dropout(p=0.1, inplace=False)\n",
       "  (classifier): Linear(in_features=768, out_features=4, bias=True)\n",
       ")"
      ]
     },
     "execution_count": 4,
     "metadata": {},
     "output_type": "execute_result"
    }
   ],
   "source": [
    "\n",
    "\n",
    "model_path = \"bert-yt_classifier/checkpoint-1460\"\n",
    "tokenizer = BertTokenizer.from_pretrained(model_path)\n",
    "model = BertForSequenceClassification.from_pretrained(model_path)\n",
    "\n",
    "\n",
    "model.eval()"
   ]
  },
  {
   "cell_type": "code",
   "execution_count": 11,
   "metadata": {},
   "outputs": [
    {
     "name": "stdout",
     "output_type": "stream",
     "text": [
      "['other', 'other', 'other', 'other']\n"
     ]
    }
   ],
   "source": [
    "texts = [\"This is Magnus Carlsen.\", \"this is Gary kasparov.\" , \"this is terence tao.\" , \"this is harkirat singh , from iit sr developer \"]\n",
    "\n",
    "inputs = tokenizer(texts, padding=True, truncation=True, max_length=128, return_tensors=\"pt\")\n",
    "with torch.no_grad():\n",
    "    outputs = model(**inputs)\n",
    "\n",
    "# Process outputs\n",
    "logits = outputs.logits\n",
    "probabilities = torch.nn.functional.softmax(logits, dim=-1)\n",
    "predicted_classes = torch.argmax(probabilities, dim=-1)\n",
    "\n",
    "# Map predicted classes to labels\n",
    "label_mapping = {0: \"other\", 1: \"chess\", 2: \"coding\", 3: \"math\"}\n",
    "predicted_labels = [label_mapping[int(label)] for label in predicted_classes]\n",
    "\n",
    "print(predicted_labels)"
   ]
  },
  {
   "cell_type": "code",
   "execution_count": 21,
   "metadata": {},
   "outputs": [
    {
     "data": {
      "application/vnd.jupyter.widget-view+json": {
       "model_id": "fbc6141bfad14867a360aa0ebe033b11",
       "version_major": 2,
       "version_minor": 0
      },
      "text/plain": [
       "VBox(children=(HTML(value='<center> <img\\nsrc=https://huggingface.co/front/assets/huggingface_logo-noborder.sv…"
      ]
     },
     "metadata": {},
     "output_type": "display_data"
    },
    {
     "name": "stderr",
     "output_type": "stream",
     "text": [
      "Token has not been saved to git credential helper.\n"
     ]
    }
   ],
   "source": [
    "#uploading the model to huggingface \n",
    "from huggingface_hub import notebook_login\n",
    "\n",
    "notebook_login()"
   ]
  },
  {
   "cell_type": "code",
   "execution_count": 25,
   "metadata": {},
   "outputs": [
    {
     "data": {
      "application/vnd.jupyter.widget-view+json": {
       "model_id": "6f967de9855f4249bef8b4e2affaa135",
       "version_major": 2,
       "version_minor": 0
      },
      "text/plain": [
       "model.safetensors:   0%|          | 0.00/438M [00:00<?, ?B/s]"
      ]
     },
     "metadata": {},
     "output_type": "display_data"
    },
    {
     "data": {
      "application/vnd.jupyter.widget-view+json": {
       "model_id": "d54f3188d2b04dd6a8704142a7d7ef38",
       "version_major": 2,
       "version_minor": 0
      },
      "text/plain": [
       "README.md:   0%|          | 0.00/5.17k [00:00<?, ?B/s]"
      ]
     },
     "metadata": {},
     "output_type": "display_data"
    },
    {
     "data": {
      "text/plain": [
       "CommitInfo(commit_url='https://huggingface.co/curlyoreki/detoxifying_yt/commit/e4b611bb2f93ea9018650a2a2d2f349c5018d233', commit_message='Upload tokenizer', commit_description='', oid='e4b611bb2f93ea9018650a2a2d2f349c5018d233', pr_url=None, repo_url=RepoUrl('https://huggingface.co/curlyoreki/detoxifying_yt', endpoint='https://huggingface.co', repo_type='model', repo_id='curlyoreki/detoxifying_yt'), pr_revision=None, pr_num=None)"
      ]
     },
     "execution_count": 25,
     "metadata": {},
     "output_type": "execute_result"
    }
   ],
   "source": [
    "# Save both model and tokenizer to the same local directory\n",
    "model_save_path = \"bert-yt_classifier/checkpoint-1460\"\n",
    "model.save_pretrained(model_save_path)\n",
    "tokenizer.save_pretrained(model_save_path)\n",
    "\n",
    "\n",
    "model.push_to_hub(\"detoxifying_yt\", use_auth_token=True)\n",
    "tokenizer.push_to_hub(\"detoxifying_yt\", use_auth_token=True)"
   ]
  },
  {
   "cell_type": "code",
   "execution_count": null,
   "metadata": {},
   "outputs": [],
   "source": []
  }
 ],
 "metadata": {
  "kernelspec": {
   "display_name": "virtual",
   "language": "python",
   "name": "python3"
  },
  "language_info": {
   "codemirror_mode": {
    "name": "ipython",
    "version": 3
   },
   "file_extension": ".py",
   "mimetype": "text/x-python",
   "name": "python",
   "nbconvert_exporter": "python",
   "pygments_lexer": "ipython3",
   "version": "3.12.2"
  }
 },
 "nbformat": 4,
 "nbformat_minor": 2
}
